{
  "nbformat": 4,
  "nbformat_minor": 0,
  "metadata": {
    "colab": {
      "name": "PartSegmentationKPConv.ipynb",
      "provenance": [],
      "collapsed_sections": [],
      "toc_visible": true,
      "machine_shape": "hm",
      "authorship_tag": "ABX9TyNPGwxV9mhUqgfZJHd1TMlJ",
      "include_colab_link": true
    },
    "kernelspec": {
      "name": "python3",
      "display_name": "Python 3"
    },
    "accelerator": "GPU",
    "widgets": {
      "application/vnd.jupyter.widget-state+json": {
        "f978ded7d2c54d5bb5a4316fedcde92d": {
          "model_module": "@jupyter-widgets/controls",
          "model_name": "HBoxModel",
          "state": {
            "_view_name": "HBoxView",
            "_dom_classes": [],
            "_model_name": "HBoxModel",
            "_view_module": "@jupyter-widgets/controls",
            "_model_module_version": "1.5.0",
            "_view_count": null,
            "_view_module_version": "1.5.0",
            "box_style": "",
            "layout": "IPY_MODEL_0792d2a73fec4d75ad1260da897f84ab",
            "_model_module": "@jupyter-widgets/controls",
            "children": [
              "IPY_MODEL_aca624c2651b421e82d45c1a6865d2bd",
              "IPY_MODEL_0806f71ab2114d3d9b1eec12c7acdf31"
            ]
          }
        },
        "0792d2a73fec4d75ad1260da897f84ab": {
          "model_module": "@jupyter-widgets/base",
          "model_name": "LayoutModel",
          "state": {
            "_view_name": "LayoutView",
            "grid_template_rows": null,
            "right": null,
            "justify_content": null,
            "_view_module": "@jupyter-widgets/base",
            "overflow": null,
            "_model_module_version": "1.2.0",
            "_view_count": null,
            "flex_flow": "row wrap",
            "width": "100%",
            "min_width": null,
            "border": null,
            "align_items": null,
            "bottom": null,
            "_model_module": "@jupyter-widgets/base",
            "top": null,
            "grid_column": null,
            "overflow_y": null,
            "overflow_x": null,
            "grid_auto_flow": null,
            "grid_area": null,
            "grid_template_columns": null,
            "flex": null,
            "_model_name": "LayoutModel",
            "justify_items": null,
            "grid_row": null,
            "max_height": null,
            "align_content": null,
            "visibility": null,
            "align_self": null,
            "height": null,
            "min_height": null,
            "padding": null,
            "grid_auto_rows": null,
            "grid_gap": null,
            "max_width": null,
            "order": null,
            "_view_module_version": "1.2.0",
            "grid_template_areas": null,
            "object_position": null,
            "object_fit": null,
            "grid_auto_columns": null,
            "margin": null,
            "display": "inline-flex",
            "left": null
          }
        },
        "aca624c2651b421e82d45c1a6865d2bd": {
          "model_module": "@jupyter-widgets/controls",
          "model_name": "FloatProgressModel",
          "state": {
            "_view_name": "ProgressView",
            "style": "IPY_MODEL_81714c71429046d0baea5af7b643cef8",
            "_dom_classes": [],
            "description": "Validation sanity check: 100%",
            "_model_name": "FloatProgressModel",
            "bar_style": "info",
            "max": 1,
            "_view_module": "@jupyter-widgets/controls",
            "_model_module_version": "1.5.0",
            "value": 1,
            "_view_count": null,
            "_view_module_version": "1.5.0",
            "orientation": "horizontal",
            "min": 0,
            "description_tooltip": null,
            "_model_module": "@jupyter-widgets/controls",
            "layout": "IPY_MODEL_63c5043ace63469b897179b387b9777b"
          }
        },
        "0806f71ab2114d3d9b1eec12c7acdf31": {
          "model_module": "@jupyter-widgets/controls",
          "model_name": "HTMLModel",
          "state": {
            "_view_name": "HTMLView",
            "style": "IPY_MODEL_412acd39b50d4fba9e98fea7bd6f8ab2",
            "_dom_classes": [],
            "description": "",
            "_model_name": "HTMLModel",
            "placeholder": "​",
            "_view_module": "@jupyter-widgets/controls",
            "_model_module_version": "1.5.0",
            "value": " 5/5 [00:09&lt;00:00,  2.14s/it]",
            "_view_count": null,
            "_view_module_version": "1.5.0",
            "description_tooltip": null,
            "_model_module": "@jupyter-widgets/controls",
            "layout": "IPY_MODEL_bcb64b6b92fc479799531b8015f8a02a"
          }
        },
        "81714c71429046d0baea5af7b643cef8": {
          "model_module": "@jupyter-widgets/controls",
          "model_name": "ProgressStyleModel",
          "state": {
            "_view_name": "StyleView",
            "_model_name": "ProgressStyleModel",
            "description_width": "initial",
            "_view_module": "@jupyter-widgets/base",
            "_model_module_version": "1.5.0",
            "_view_count": null,
            "_view_module_version": "1.2.0",
            "bar_color": null,
            "_model_module": "@jupyter-widgets/controls"
          }
        },
        "63c5043ace63469b897179b387b9777b": {
          "model_module": "@jupyter-widgets/base",
          "model_name": "LayoutModel",
          "state": {
            "_view_name": "LayoutView",
            "grid_template_rows": null,
            "right": null,
            "justify_content": null,
            "_view_module": "@jupyter-widgets/base",
            "overflow": null,
            "_model_module_version": "1.2.0",
            "_view_count": null,
            "flex_flow": null,
            "width": null,
            "min_width": null,
            "border": null,
            "align_items": null,
            "bottom": null,
            "_model_module": "@jupyter-widgets/base",
            "top": null,
            "grid_column": null,
            "overflow_y": null,
            "overflow_x": null,
            "grid_auto_flow": null,
            "grid_area": null,
            "grid_template_columns": null,
            "flex": "2",
            "_model_name": "LayoutModel",
            "justify_items": null,
            "grid_row": null,
            "max_height": null,
            "align_content": null,
            "visibility": null,
            "align_self": null,
            "height": null,
            "min_height": null,
            "padding": null,
            "grid_auto_rows": null,
            "grid_gap": null,
            "max_width": null,
            "order": null,
            "_view_module_version": "1.2.0",
            "grid_template_areas": null,
            "object_position": null,
            "object_fit": null,
            "grid_auto_columns": null,
            "margin": null,
            "display": null,
            "left": null
          }
        },
        "412acd39b50d4fba9e98fea7bd6f8ab2": {
          "model_module": "@jupyter-widgets/controls",
          "model_name": "DescriptionStyleModel",
          "state": {
            "_view_name": "StyleView",
            "_model_name": "DescriptionStyleModel",
            "description_width": "",
            "_view_module": "@jupyter-widgets/base",
            "_model_module_version": "1.5.0",
            "_view_count": null,
            "_view_module_version": "1.2.0",
            "_model_module": "@jupyter-widgets/controls"
          }
        },
        "bcb64b6b92fc479799531b8015f8a02a": {
          "model_module": "@jupyter-widgets/base",
          "model_name": "LayoutModel",
          "state": {
            "_view_name": "LayoutView",
            "grid_template_rows": null,
            "right": null,
            "justify_content": null,
            "_view_module": "@jupyter-widgets/base",
            "overflow": null,
            "_model_module_version": "1.2.0",
            "_view_count": null,
            "flex_flow": null,
            "width": null,
            "min_width": null,
            "border": null,
            "align_items": null,
            "bottom": null,
            "_model_module": "@jupyter-widgets/base",
            "top": null,
            "grid_column": null,
            "overflow_y": null,
            "overflow_x": null,
            "grid_auto_flow": null,
            "grid_area": null,
            "grid_template_columns": null,
            "flex": null,
            "_model_name": "LayoutModel",
            "justify_items": null,
            "grid_row": null,
            "max_height": null,
            "align_content": null,
            "visibility": null,
            "align_self": null,
            "height": null,
            "min_height": null,
            "padding": null,
            "grid_auto_rows": null,
            "grid_gap": null,
            "max_width": null,
            "order": null,
            "_view_module_version": "1.2.0",
            "grid_template_areas": null,
            "object_position": null,
            "object_fit": null,
            "grid_auto_columns": null,
            "margin": null,
            "display": null,
            "left": null
          }
        },
        "3afb19ad46244ca9867679e1a60bee4c": {
          "model_module": "@jupyter-widgets/controls",
          "model_name": "HBoxModel",
          "state": {
            "_view_name": "HBoxView",
            "_dom_classes": [],
            "_model_name": "HBoxModel",
            "_view_module": "@jupyter-widgets/controls",
            "_model_module_version": "1.5.0",
            "_view_count": null,
            "_view_module_version": "1.5.0",
            "box_style": "",
            "layout": "IPY_MODEL_10bcf5b248774e9c891819f2e5a6d619",
            "_model_module": "@jupyter-widgets/controls",
            "children": [
              "IPY_MODEL_f426173e200047d48a4ef3b6a8cd1c9a",
              "IPY_MODEL_1597b76753b94352880dbd02efc4537e"
            ]
          }
        },
        "10bcf5b248774e9c891819f2e5a6d619": {
          "model_module": "@jupyter-widgets/base",
          "model_name": "LayoutModel",
          "state": {
            "_view_name": "LayoutView",
            "grid_template_rows": null,
            "right": null,
            "justify_content": null,
            "_view_module": "@jupyter-widgets/base",
            "overflow": null,
            "_model_module_version": "1.2.0",
            "_view_count": null,
            "flex_flow": "row wrap",
            "width": "100%",
            "min_width": null,
            "border": null,
            "align_items": null,
            "bottom": null,
            "_model_module": "@jupyter-widgets/base",
            "top": null,
            "grid_column": null,
            "overflow_y": null,
            "overflow_x": null,
            "grid_auto_flow": null,
            "grid_area": null,
            "grid_template_columns": null,
            "flex": null,
            "_model_name": "LayoutModel",
            "justify_items": null,
            "grid_row": null,
            "max_height": null,
            "align_content": null,
            "visibility": null,
            "align_self": null,
            "height": null,
            "min_height": null,
            "padding": null,
            "grid_auto_rows": null,
            "grid_gap": null,
            "max_width": null,
            "order": null,
            "_view_module_version": "1.2.0",
            "grid_template_areas": null,
            "object_position": null,
            "object_fit": null,
            "grid_auto_columns": null,
            "margin": null,
            "display": "inline-flex",
            "left": null
          }
        },
        "f426173e200047d48a4ef3b6a8cd1c9a": {
          "model_module": "@jupyter-widgets/controls",
          "model_name": "FloatProgressModel",
          "state": {
            "_view_name": "ProgressView",
            "style": "IPY_MODEL_cb59b8eb93fb403bb67ef00fc8dfb46b",
            "_dom_classes": [],
            "description": "Epoch 2:   3%",
            "_model_name": "FloatProgressModel",
            "bar_style": "info",
            "max": 1056,
            "_view_module": "@jupyter-widgets/controls",
            "_model_module_version": "1.5.0",
            "value": 29,
            "_view_count": null,
            "_view_module_version": "1.5.0",
            "orientation": "horizontal",
            "min": 0,
            "description_tooltip": null,
            "_model_module": "@jupyter-widgets/controls",
            "layout": "IPY_MODEL_cc6cf8d082034599bdce258fb9456316"
          }
        },
        "1597b76753b94352880dbd02efc4537e": {
          "model_module": "@jupyter-widgets/controls",
          "model_name": "HTMLModel",
          "state": {
            "_view_name": "HTMLView",
            "style": "IPY_MODEL_6a40b038be824828831669c431e18730",
            "_dom_classes": [],
            "description": "",
            "_model_name": "HTMLModel",
            "placeholder": "​",
            "_view_module": "@jupyter-widgets/controls",
            "_model_module_version": "1.5.0",
            "value": " 29/1056 [00:26&lt;15:54,  1.08it/s, loss=0.267, v_num=0]",
            "_view_count": null,
            "_view_module_version": "1.5.0",
            "description_tooltip": null,
            "_model_module": "@jupyter-widgets/controls",
            "layout": "IPY_MODEL_efdab77892674f9794e358f57bf896ed"
          }
        },
        "cb59b8eb93fb403bb67ef00fc8dfb46b": {
          "model_module": "@jupyter-widgets/controls",
          "model_name": "ProgressStyleModel",
          "state": {
            "_view_name": "StyleView",
            "_model_name": "ProgressStyleModel",
            "description_width": "initial",
            "_view_module": "@jupyter-widgets/base",
            "_model_module_version": "1.5.0",
            "_view_count": null,
            "_view_module_version": "1.2.0",
            "bar_color": null,
            "_model_module": "@jupyter-widgets/controls"
          }
        },
        "cc6cf8d082034599bdce258fb9456316": {
          "model_module": "@jupyter-widgets/base",
          "model_name": "LayoutModel",
          "state": {
            "_view_name": "LayoutView",
            "grid_template_rows": null,
            "right": null,
            "justify_content": null,
            "_view_module": "@jupyter-widgets/base",
            "overflow": null,
            "_model_module_version": "1.2.0",
            "_view_count": null,
            "flex_flow": null,
            "width": null,
            "min_width": null,
            "border": null,
            "align_items": null,
            "bottom": null,
            "_model_module": "@jupyter-widgets/base",
            "top": null,
            "grid_column": null,
            "overflow_y": null,
            "overflow_x": null,
            "grid_auto_flow": null,
            "grid_area": null,
            "grid_template_columns": null,
            "flex": "2",
            "_model_name": "LayoutModel",
            "justify_items": null,
            "grid_row": null,
            "max_height": null,
            "align_content": null,
            "visibility": null,
            "align_self": null,
            "height": null,
            "min_height": null,
            "padding": null,
            "grid_auto_rows": null,
            "grid_gap": null,
            "max_width": null,
            "order": null,
            "_view_module_version": "1.2.0",
            "grid_template_areas": null,
            "object_position": null,
            "object_fit": null,
            "grid_auto_columns": null,
            "margin": null,
            "display": null,
            "left": null
          }
        },
        "6a40b038be824828831669c431e18730": {
          "model_module": "@jupyter-widgets/controls",
          "model_name": "DescriptionStyleModel",
          "state": {
            "_view_name": "StyleView",
            "_model_name": "DescriptionStyleModel",
            "description_width": "",
            "_view_module": "@jupyter-widgets/base",
            "_model_module_version": "1.5.0",
            "_view_count": null,
            "_view_module_version": "1.2.0",
            "_model_module": "@jupyter-widgets/controls"
          }
        },
        "efdab77892674f9794e358f57bf896ed": {
          "model_module": "@jupyter-widgets/base",
          "model_name": "LayoutModel",
          "state": {
            "_view_name": "LayoutView",
            "grid_template_rows": null,
            "right": null,
            "justify_content": null,
            "_view_module": "@jupyter-widgets/base",
            "overflow": null,
            "_model_module_version": "1.2.0",
            "_view_count": null,
            "flex_flow": null,
            "width": null,
            "min_width": null,
            "border": null,
            "align_items": null,
            "bottom": null,
            "_model_module": "@jupyter-widgets/base",
            "top": null,
            "grid_column": null,
            "overflow_y": null,
            "overflow_x": null,
            "grid_auto_flow": null,
            "grid_area": null,
            "grid_template_columns": null,
            "flex": null,
            "_model_name": "LayoutModel",
            "justify_items": null,
            "grid_row": null,
            "max_height": null,
            "align_content": null,
            "visibility": null,
            "align_self": null,
            "height": null,
            "min_height": null,
            "padding": null,
            "grid_auto_rows": null,
            "grid_gap": null,
            "max_width": null,
            "order": null,
            "_view_module_version": "1.2.0",
            "grid_template_areas": null,
            "object_position": null,
            "object_fit": null,
            "grid_auto_columns": null,
            "margin": null,
            "display": null,
            "left": null
          }
        },
        "703d9a8ea2c04a709ac5118643bd122d": {
          "model_module": "@jupyter-widgets/controls",
          "model_name": "HBoxModel",
          "state": {
            "_view_name": "HBoxView",
            "_dom_classes": [],
            "_model_name": "HBoxModel",
            "_view_module": "@jupyter-widgets/controls",
            "_model_module_version": "1.5.0",
            "_view_count": null,
            "_view_module_version": "1.5.0",
            "box_style": "",
            "layout": "IPY_MODEL_e9ba125f7e3542718e5b2b4473c6a789",
            "_model_module": "@jupyter-widgets/controls",
            "children": [
              "IPY_MODEL_ca6cd63eab3e4c52a1e3b24f611a41f0",
              "IPY_MODEL_b455d87506e1475a9108a4fc1545faf5"
            ]
          }
        },
        "e9ba125f7e3542718e5b2b4473c6a789": {
          "model_module": "@jupyter-widgets/base",
          "model_name": "LayoutModel",
          "state": {
            "_view_name": "LayoutView",
            "grid_template_rows": null,
            "right": null,
            "justify_content": null,
            "_view_module": "@jupyter-widgets/base",
            "overflow": null,
            "_model_module_version": "1.2.0",
            "_view_count": null,
            "flex_flow": "row wrap",
            "width": "100%",
            "min_width": null,
            "border": null,
            "align_items": null,
            "bottom": null,
            "_model_module": "@jupyter-widgets/base",
            "top": null,
            "grid_column": null,
            "overflow_y": null,
            "overflow_x": null,
            "grid_auto_flow": null,
            "grid_area": null,
            "grid_template_columns": null,
            "flex": null,
            "_model_name": "LayoutModel",
            "justify_items": null,
            "grid_row": null,
            "max_height": null,
            "align_content": null,
            "visibility": null,
            "align_self": null,
            "height": null,
            "min_height": null,
            "padding": null,
            "grid_auto_rows": null,
            "grid_gap": null,
            "max_width": null,
            "order": null,
            "_view_module_version": "1.2.0",
            "grid_template_areas": null,
            "object_position": null,
            "object_fit": null,
            "grid_auto_columns": null,
            "margin": null,
            "display": "inline-flex",
            "left": null
          }
        },
        "ca6cd63eab3e4c52a1e3b24f611a41f0": {
          "model_module": "@jupyter-widgets/controls",
          "model_name": "FloatProgressModel",
          "state": {
            "_view_name": "ProgressView",
            "style": "IPY_MODEL_cc6f5df7e1af4072815866838750cd22",
            "_dom_classes": [],
            "description": "Validating: 100%",
            "_model_name": "FloatProgressModel",
            "bar_style": "info",
            "max": 1,
            "_view_module": "@jupyter-widgets/controls",
            "_model_module_version": "1.5.0",
            "value": 1,
            "_view_count": null,
            "_view_module_version": "1.5.0",
            "orientation": "horizontal",
            "min": 0,
            "description_tooltip": null,
            "_model_module": "@jupyter-widgets/controls",
            "layout": "IPY_MODEL_6ec72c94ed4b42d19251f4b44d89dc7b"
          }
        },
        "b455d87506e1475a9108a4fc1545faf5": {
          "model_module": "@jupyter-widgets/controls",
          "model_name": "HTMLModel",
          "state": {
            "_view_name": "HTMLView",
            "style": "IPY_MODEL_d772406034b4475e8094ef1a175632ca",
            "_dom_classes": [],
            "description": "",
            "_model_name": "HTMLModel",
            "placeholder": "​",
            "_view_module": "@jupyter-widgets/controls",
            "_model_module_version": "1.5.0",
            "value": " 180/180 [00:49&lt;00:00,  6.44it/s]",
            "_view_count": null,
            "_view_module_version": "1.5.0",
            "description_tooltip": null,
            "_model_module": "@jupyter-widgets/controls",
            "layout": "IPY_MODEL_4f303b90e9c044ddbb8f2287d3486b27"
          }
        },
        "cc6f5df7e1af4072815866838750cd22": {
          "model_module": "@jupyter-widgets/controls",
          "model_name": "ProgressStyleModel",
          "state": {
            "_view_name": "StyleView",
            "_model_name": "ProgressStyleModel",
            "description_width": "initial",
            "_view_module": "@jupyter-widgets/base",
            "_model_module_version": "1.5.0",
            "_view_count": null,
            "_view_module_version": "1.2.0",
            "bar_color": null,
            "_model_module": "@jupyter-widgets/controls"
          }
        },
        "6ec72c94ed4b42d19251f4b44d89dc7b": {
          "model_module": "@jupyter-widgets/base",
          "model_name": "LayoutModel",
          "state": {
            "_view_name": "LayoutView",
            "grid_template_rows": null,
            "right": null,
            "justify_content": null,
            "_view_module": "@jupyter-widgets/base",
            "overflow": null,
            "_model_module_version": "1.2.0",
            "_view_count": null,
            "flex_flow": null,
            "width": null,
            "min_width": null,
            "border": null,
            "align_items": null,
            "bottom": null,
            "_model_module": "@jupyter-widgets/base",
            "top": null,
            "grid_column": null,
            "overflow_y": null,
            "overflow_x": null,
            "grid_auto_flow": null,
            "grid_area": null,
            "grid_template_columns": null,
            "flex": "2",
            "_model_name": "LayoutModel",
            "justify_items": null,
            "grid_row": null,
            "max_height": null,
            "align_content": null,
            "visibility": null,
            "align_self": null,
            "height": null,
            "min_height": null,
            "padding": null,
            "grid_auto_rows": null,
            "grid_gap": null,
            "max_width": null,
            "order": null,
            "_view_module_version": "1.2.0",
            "grid_template_areas": null,
            "object_position": null,
            "object_fit": null,
            "grid_auto_columns": null,
            "margin": null,
            "display": null,
            "left": null
          }
        },
        "d772406034b4475e8094ef1a175632ca": {
          "model_module": "@jupyter-widgets/controls",
          "model_name": "DescriptionStyleModel",
          "state": {
            "_view_name": "StyleView",
            "_model_name": "DescriptionStyleModel",
            "description_width": "",
            "_view_module": "@jupyter-widgets/base",
            "_model_module_version": "1.5.0",
            "_view_count": null,
            "_view_module_version": "1.2.0",
            "_model_module": "@jupyter-widgets/controls"
          }
        },
        "4f303b90e9c044ddbb8f2287d3486b27": {
          "model_module": "@jupyter-widgets/base",
          "model_name": "LayoutModel",
          "state": {
            "_view_name": "LayoutView",
            "grid_template_rows": null,
            "right": null,
            "justify_content": null,
            "_view_module": "@jupyter-widgets/base",
            "overflow": null,
            "_model_module_version": "1.2.0",
            "_view_count": null,
            "flex_flow": null,
            "width": null,
            "min_width": null,
            "border": null,
            "align_items": null,
            "bottom": null,
            "_model_module": "@jupyter-widgets/base",
            "top": null,
            "grid_column": null,
            "overflow_y": null,
            "overflow_x": null,
            "grid_auto_flow": null,
            "grid_area": null,
            "grid_template_columns": null,
            "flex": null,
            "_model_name": "LayoutModel",
            "justify_items": null,
            "grid_row": null,
            "max_height": null,
            "align_content": null,
            "visibility": null,
            "align_self": null,
            "height": null,
            "min_height": null,
            "padding": null,
            "grid_auto_rows": null,
            "grid_gap": null,
            "max_width": null,
            "order": null,
            "_view_module_version": "1.2.0",
            "grid_template_areas": null,
            "object_position": null,
            "object_fit": null,
            "grid_auto_columns": null,
            "margin": null,
            "display": null,
            "left": null
          }
        }
      }
    }
  },
  "cells": [
    {
      "cell_type": "markdown",
      "metadata": {
        "id": "view-in-github",
        "colab_type": "text"
      },
      "source": [
        "<a href=\"https://colab.research.google.com/github/nicolas-chaulet/torch-points3d/blob/master/notebooks/PartSegmentationKPConv.ipynb\" target=\"_parent\"><img src=\"https://colab.research.google.com/assets/colab-badge.svg\" alt=\"Open In Colab\"/></a>"
      ]
    },
    {
      "cell_type": "code",
      "metadata": {
        "id": "sMPGNDv1vDn0",
        "colab_type": "code",
        "colab": {}
      },
      "source": [
        "# Setup packages\n",
        "!pip install torch==1.3.1 pyvista torchvision==0.4.2 pytorch-lightning\n",
        "!pip install --upgrade jsonschema\n",
        "!pip install torch-points3d\n",
        "!apt-get install -qq xvfb libgl1-mesa-glx"
      ],
      "execution_count": 0,
      "outputs": []
    },
    {
      "cell_type": "code",
      "metadata": {
        "id": "7_9hcYlFvOv6",
        "colab_type": "code",
        "outputId": "d4b19a0f-fbe4-4a45-907f-42454dca0401",
        "colab": {
          "base_uri": "https://localhost:8080/",
          "height": 34
        }
      },
      "source": [
        "# Needed for remote rendering \n",
        "import os\n",
        "os.environ[\"DISPLAY\"] = \":1.0\"\n",
        "os.environ[\"PYVISTA_OFF_SCREEN\"]=\"true\"\n",
        "os.environ[\"PYVISTA_PLOT_THEME\"]=\"true\"\n",
        "os.environ[\"PYVISTA_USE_PANEL\"]=\"true\"\n",
        "os.environ[\"PYVISTA_AUTO_CLOSE\"]=\"false\"\n",
        "os.system(\"Xvfb :1 -screen 0 1024x768x24 > /dev/null 2>&1 &\")"
      ],
      "execution_count": 0,
      "outputs": [
        {
          "output_type": "execute_result",
          "data": {
            "text/plain": [
              "0"
            ]
          },
          "metadata": {
            "tags": []
          },
          "execution_count": 2
        }
      ]
    },
    {
      "cell_type": "code",
      "metadata": {
        "id": "HGza3XTYvQNC",
        "colab_type": "code",
        "colab": {}
      },
      "source": [
        "import os\n",
        "import sys\n",
        "from omegaconf import OmegaConf\n",
        "import pyvista as pv\n",
        "import torch\n",
        "import numpy as np"
      ],
      "execution_count": 0,
      "outputs": []
    },
    {
      "cell_type": "code",
      "metadata": {
        "id": "Q44YjGjrvg2j",
        "colab_type": "code",
        "colab": {}
      },
      "source": [
        "DIR = \"\" # Replace with your root directory, the data will go in DIR/data."
      ],
      "execution_count": 0,
      "outputs": []
    },
    {
      "cell_type": "markdown",
      "metadata": {
        "id": "izN8KU_tv5JR",
        "colab_type": "text"
      },
      "source": [
        "<p align=\"center\">\n",
        "  <img width=\"40%\" src=\"https://raw.githubusercontent.com/nicolas-chaulet/torch-points3d/master/docs/logo.png\" />\n",
        "</p>"
      ]
    },
    {
      "cell_type": "markdown",
      "metadata": {
        "id": "Mgox3ksbv-s1",
        "colab_type": "text"
      },
      "source": [
        "# Segmenting objects in part with KPConv\n",
        "In this notebook we will solve the task of segmenting an object into its sub parts by using a [KPConv](https://arxiv.org/abs/1904.08889) deep neural network.\n",
        "We will work on [ShapeNet](https://www.shapenet.org/) dataset which contains 48,600 3D models over 55 common categories with part annotations. We will show you how you can use Torch Points3D to setup a KPConv backbone with a multi head classifier and train it on ShapeNet. We will in particular cover the CPU pre processing of the data that allows a complex KPConv to perform well."
      ]
    },
    {
      "cell_type": "markdown",
      "metadata": {
        "id": "wyFtUQhGybFc",
        "colab_type": "text"
      },
      "source": [
        "## The dataset\n",
        "We use Torch Points3D version of ShapeNet that provides automatic download (be patient, it takes some time...) of the data, a tested metric tracker as well as methods for pre computing the spatial operations such as neighbour search and grid sampling on CPU.\n",
        "\n",
        "Let's start with the data config (if you want more details about that part of Torch Points3D please refer to this notebook)."
      ]
    },
    {
      "cell_type": "code",
      "metadata": {
        "id": "JnLlPJ_dmzOV",
        "colab_type": "code",
        "cellView": "form",
        "colab": {}
      },
      "source": [
        "#@title Configure the dataset {run: \"auto\"}\n",
        "CATEGORY = \"All\" #@param [\"Airplane\", \"Bag\", \"All\", \"Motorbike\"] {allow-input: true}\n",
        "USE_NORMALS = True #@param {type:\"boolean\"}|"
      ],
      "execution_count": 0,
      "outputs": []
    },
    {
      "cell_type": "code",
      "metadata": {
        "id": "PBRS6vxSvjRo",
        "colab_type": "code",
        "colab": {}
      },
      "source": [
        "shapenet_yaml = \"\"\"\n",
        "class: shapenet.ShapeNetDataset\n",
        "task: segmentation\n",
        "dataroot: %s\n",
        "normal: %r                                    # Use normal vectors as features\n",
        "first_subsampling: 0.02                       # Grid size of the input data\n",
        "pre_transforms:                               # Offline transforms, done only once\n",
        "    - transform: NormalizeScale           \n",
        "    - transform: GridSampling\n",
        "      params:\n",
        "        size: ${first_subsampling}\n",
        "train_transforms:                             # Data augmentation pipeline\n",
        "    - transform: RandomNoise\n",
        "      params:\n",
        "        sigma: 0.01\n",
        "        clip: 0.05\n",
        "    - transform: RandomScaleAnisotropic\n",
        "      params:\n",
        "        scales: [0.9,1.1]\n",
        "    - transform: AddOnes\n",
        "    - transform: AddFeatsByKeys\n",
        "      params:\n",
        "        list_add_to_x: [True]\n",
        "        feat_names: [\"ones\"]\n",
        "        delete_feats: [True]\n",
        "test_transforms:\n",
        "    - transform: AddOnes\n",
        "    - transform: AddFeatsByKeys\n",
        "      params:\n",
        "        list_add_to_x: [True]\n",
        "        feat_names: [\"ones\"]\n",
        "        delete_feats: [True]\n",
        "\"\"\" % (os.path.join(DIR,\"data\"), USE_NORMALS) \n",
        "\n",
        "from omegaconf import OmegaConf\n",
        "params = OmegaConf.create(shapenet_yaml)\n",
        "if CATEGORY != \"All\":\n",
        "    params.category = CATEGORY"
      ],
      "execution_count": 0,
      "outputs": []
    },
    {
      "cell_type": "code",
      "metadata": {
        "id": "eQFRmfUYzXX1",
        "colab_type": "code",
        "outputId": "dda6e22a-ddaf-456d-b856-dc20da54bc18",
        "colab": {
          "base_uri": "https://localhost:8080/",
          "height": 469
        }
      },
      "source": [
        "from torch_points3d.datasets.segmentation import ShapeNetDataset\n",
        "dataset = ShapeNetDataset(params)\n",
        "dataset"
      ],
      "execution_count": 0,
      "outputs": [
        {
          "output_type": "execute_result",
          "data": {
            "text/plain": [
              "Dataset: ShapeNetDataset \n",
              "\u001b[0;95mpre_transform \u001b[0m= Compose([\n",
              "    NormalizeScale(),\n",
              "    GridSampling(grid_size=0.02, quantize_coords=False, mode=mean),\n",
              "])\n",
              "\u001b[0;95mtest_transform \u001b[0m= Compose([\n",
              "    AddOnes(),\n",
              "    AddFeatsByKeys(ones=True),\n",
              "])\n",
              "\u001b[0;95mtrain_transform \u001b[0m= Compose([\n",
              "    RandomNoise(sigma=0.01, clip=0.05),\n",
              "    RandomScaleAnisotropic([0.9, 1.1]),\n",
              "    AddOnes(),\n",
              "    AddFeatsByKeys(ones=True),\n",
              "])\n",
              "\u001b[0;95mval_transform \u001b[0m= None\n",
              "\u001b[0;95minference_transform \u001b[0m= Compose([\n",
              "    NormalizeScale(),\n",
              "    GridSampling(grid_size=0.02, quantize_coords=False, mode=mean),\n",
              "    AddOnes(),\n",
              "    AddFeatsByKeys(ones=True),\n",
              "])\n",
              "Size of \u001b[0;95mtrain_dataset \u001b[0m= 14007\n",
              "Size of \u001b[0;95mtest_dataset \u001b[0m= 2874\n",
              "Size of \u001b[0;95mval_dataset \u001b[0m= 0\n",
              "\u001b[0;95mBatch size =\u001b[0m None"
            ]
          },
          "metadata": {
            "tags": []
          },
          "execution_count": 12
        }
      ]
    },
    {
      "cell_type": "code",
      "metadata": {
        "id": "wAN1JCiU1pFW",
        "colab_type": "code",
        "cellView": "form",
        "outputId": "003ecfe9-1f31-4b0a-9ec1-0b473060d256",
        "colab": {
          "base_uri": "https://localhost:8080/",
          "height": 412
        }
      },
      "source": [
        "#@title Plot samples with part annotations { run: \"auto\" }\n",
        "objectid_1 = 9 #@param {type:\"slider\", min:0, max:100, step:1}\n",
        "objectid_2 = 82 #@param {type:\"slider\", min:0, max:100, step:1}\n",
        "objectid_3 = 95 #@param {type:\"slider\", min:0, max:100, step:1}\n",
        "\n",
        "samples = [objectid_1,objectid_2,objectid_3]\n",
        "p = pv.Plotter(notebook=True,shape=(1, len(samples)),window_size=[1024,412])\n",
        "for i in range(len(samples)):\n",
        "    p.subplot(0, i)\n",
        "    sample = dataset.train_dataset[samples[i]]\n",
        "    point_cloud = pv.PolyData(sample.pos.numpy())\n",
        "    point_cloud['y'] = sample.y.numpy()\n",
        "    p.add_points(point_cloud,  show_scalar_bar=False, point_size=3)\n",
        "    p.camera_position = [-1,5, -10]\n",
        "p.show()"
      ],
      "execution_count": 0,
      "outputs": [
        {
          "output_type": "display_data",
          "data": {
            "image/png": "[encoded data removed]",
            "text/plain": [
              "<PIL.Image.Image image mode=RGB size=1024x412 at 0x7FB0159DEA20>"
            ]
          },
          "metadata": {
            "tags": []
          }
        }
      ]
    },
    {
      "cell_type": "markdown",
      "metadata": {
        "id": "sLSGJVf30G1C",
        "colab_type": "text"
      },
      "source": [
        "## Model for part segmentation\n",
        "Let's start by creating a multihead segmentation module with one segmentation head per category. We provide that as part of Torch Points3D but let's reproduce it here for sake of completeness."
      ]
    },
    {
      "cell_type": "code",
      "metadata": {
        "id": "V4k79sQhzryp",
        "colab_type": "code",
        "colab": {}
      },
      "source": [
        "from torch_points3d.core.common_modules import MLP, UnaryConv\n",
        "\n",
        "class MultiHeadClassifier(torch.nn.Module):\n",
        "    \"\"\" Allows segregated segmentation in case the category of an object is known. \n",
        "    This is the case in ShapeNet for example.\n",
        "\n",
        "    Parameters\n",
        "    ----------\n",
        "    in_features -\n",
        "        size of the input channel\n",
        "    cat_to_seg\n",
        "        category to segment maps for example:\n",
        "        {\n",
        "            'Airplane': [0,1,2],\n",
        "            'Table': [3,4]\n",
        "        }\n",
        "\n",
        "    \"\"\"\n",
        "\n",
        "    def __init__(self, in_features, cat_to_seg, dropout_proba=0.5, bn_momentum=0.1):\n",
        "        super().__init__()\n",
        "        self._cat_to_seg = {}\n",
        "        self._num_categories = len(cat_to_seg)\n",
        "        self._max_seg_count = 0\n",
        "        self._max_seg = 0\n",
        "        self._shifts = torch.zeros((self._num_categories,), dtype=torch.long)\n",
        "        for i, seg in enumerate(cat_to_seg.values()):\n",
        "            self._max_seg_count = max(self._max_seg_count, len(seg))\n",
        "            self._max_seg = max(self._max_seg, max(seg))\n",
        "            self._shifts[i] = min(seg)\n",
        "            self._cat_to_seg[i] = seg\n",
        "\n",
        "        self.channel_rasing = MLP(\n",
        "            [in_features, self._num_categories * in_features], bn_momentum=bn_momentum, bias=False\n",
        "        )\n",
        "        if dropout_proba:\n",
        "            self.channel_rasing.add_module(\"Dropout\", torch.nn.Dropout(p=dropout_proba))\n",
        "\n",
        "        self.classifier = UnaryConv((self._num_categories, in_features, self._max_seg_count))\n",
        "        self._bias = torch.nn.Parameter(torch.zeros(self._max_seg_count,))\n",
        "\n",
        "    def forward(self, features, category_labels, **kwargs):\n",
        "        assert features.dim() == 2\n",
        "        self._shifts = self._shifts.to(features.device)\n",
        "        in_dim = features.shape[-1]\n",
        "        features = self.channel_rasing(features)\n",
        "        features = features.reshape((-1, self._num_categories, in_dim))\n",
        "        features = features.transpose(0, 1)  # [num_categories, num_points, in_dim]\n",
        "        features = self.classifier(features) + self._bias  # [num_categories, num_points, max_seg]\n",
        "        ind = category_labels.unsqueeze(-1).repeat(1, 1, features.shape[-1]).long()\n",
        "\n",
        "        logits = features.gather(0, ind).squeeze(0)\n",
        "        softmax = torch.nn.functional.log_softmax(logits, dim=-1)\n",
        "\n",
        "        output = torch.zeros(logits.shape[0], self._max_seg + 1).to(features.device)\n",
        "        cats_in_batch = torch.unique(category_labels)\n",
        "        for cat in cats_in_batch:\n",
        "            cat_mask = category_labels == cat\n",
        "            seg_indices = self._cat_to_seg[cat.item()]\n",
        "            probs = softmax[cat_mask, : len(seg_indices)]\n",
        "            output[cat_mask, seg_indices[0] : seg_indices[-1] + 1] = probs\n",
        "        \n",
        "        return output"
      ],
      "execution_count": 0,
      "outputs": []
    },
    {
      "cell_type": "markdown",
      "metadata": {
        "id": "vk2LyH-IT2KG",
        "colab_type": "text"
      },
      "source": [
        "The model we implement here follows the main architecture proposed in the [original paper](https://arxiv.org/abs/1904.08889):\n",
        "\n",
        "<p align=\"center\">\n",
        "  <img width=\"70%\" src=\"https://drive.google.com/uc?export=view&id=1CJppQ88T69whjYsJc016L3_E_rtcJ8n1\" />\n",
        "</p>"
      ]
    },
    {
      "cell_type": "code",
      "metadata": {
        "id": "ZnyHC6Gx1nIw",
        "colab_type": "code",
        "outputId": "995a8078-a7b0-423f-dfef-8a236417aa68",
        "colab": {
          "base_uri": "https://localhost:8080/",
          "height": 72
        }
      },
      "source": [
        "from torch_points3d.applications.kpconv import KPConv\n",
        "\n",
        "\n",
        "class PartSegKPConv(torch.nn.Module):\n",
        "    def __init__(self, cat_to_seg):\n",
        "        super().__init__()\n",
        "        self.unet = KPConv(\n",
        "            architecture=\"unet\", \n",
        "            input_nc=USE_NORMALS * 3, \n",
        "            num_layers=4, \n",
        "            in_grid_size=0.02\n",
        "            )\n",
        "        self.classifier = MultiHeadClassifier(self.unet.output_nc, cat_to_seg)\n",
        "    \n",
        "    @property\n",
        "    def conv_type(self):\n",
        "        \"\"\" This is needed by the dataset to infer which batch collate should be used\"\"\"\n",
        "        return self.unet.conv_type\n",
        "    \n",
        "    def get_batch(self):\n",
        "        return self.batch\n",
        "    \n",
        "    def get_output(self):\n",
        "        \"\"\" This is needed by the tracker to get access to the ouputs of the network\"\"\"\n",
        "        return self.output\n",
        "    \n",
        "    def get_labels(self):\n",
        "        \"\"\" Needed by the tracker in order to access ground truth labels\"\"\"\n",
        "        return self.labels\n",
        "    \n",
        "    def get_current_losses(self):\n",
        "        \"\"\" Entry point for the tracker to grab the loss \"\"\"\n",
        "        return {\"loss_seg\": float(self.loss_seg)}\n",
        "\n",
        "    def forward(self, data):\n",
        "        self.labels = data.y\n",
        "        self.batch = data.batch\n",
        "        \n",
        "        # Forward through unet and classifier\n",
        "        data_features = self.unet(data)\n",
        "        self.output = self.classifier(data_features.x, data.category)\n",
        "\n",
        "         # Set loss for the backward pass\n",
        "        self.loss_seg = torch.nn.functional.nll_loss(self.output, self.labels)\n",
        "        return self.output\n",
        "\n",
        "    def get_spatial_ops(self):\n",
        "        return self.unet.get_spatial_ops()\n",
        "        \n",
        "    def backward(self):\n",
        "         self.loss_seg.backward() \n",
        "\n",
        "    "
      ],
      "execution_count": 0,
      "outputs": [
        {
          "output_type": "stream",
          "text": [
            "ERROR:root:The testing module requires faiss. You can install the GPU version with the command 'conda install faiss-gpu -c pytorch' \n",
            "                        or the CPU version with 'conda install faiss-cpu -c pytorch'. Learn more at https://github.com/facebookresearch/faiss/blob/master/INSTALL.md\n"
          ],
          "name": "stderr"
        }
      ]
    },
    {
      "cell_type": "code",
      "metadata": {
        "id": "QQ0GUiv22KKb",
        "colab_type": "code",
        "colab": {}
      },
      "source": [
        "model = PartSegKPConv(dataset.class_to_segments)"
      ],
      "execution_count": 0,
      "outputs": []
    },
    {
      "cell_type": "markdown",
      "metadata": {
        "id": "k9Bx8GjE3Kt7",
        "colab_type": "text"
      },
      "source": [
        "## The data loaders and CPU pre computing features\n",
        "KPConv is quite demanding on spatial operations such as grid sampling and radius search. On the network loaded here we have 10 KPConv layers on the encoder which means 10 radius search operations with varying number of neighbours. We observed a significant performance gain by moving those operations to the CPU where they can easily be optimised with suitable data structures such as kd-tree. We use [nonaflann](https://github.com/jlblancoc/nanoflann) in the back-end, a 3D optimised kd-tree implementation. Note that this is beneficiary only if you have access to multiple CPU threads.\n",
        "\n",
        "You can decide to precompute those spatial operations by setting the `precompute_multi_scale` parameter to `True` when creating the data loaders. The dataset will mine the model to figure out which spatial operations are required and in which order."
      ]
    },
    {
      "cell_type": "code",
      "metadata": {
        "id": "i1k4CNG12RXN",
        "colab_type": "code",
        "colab": {}
      },
      "source": [
        "NUM_WORKERS = 4\n",
        "BATCH_SIZE = 16\n",
        "dataset.create_dataloaders(\n",
        "    model,\n",
        "    batch_size=BATCH_SIZE, \n",
        "    num_workers=NUM_WORKERS, \n",
        "    shuffle=True, \n",
        "    precompute_multi_scale=True \n",
        "    )"
      ],
      "execution_count": 0,
      "outputs": []
    },
    {
      "cell_type": "code",
      "metadata": {
        "id": "4wdS3y_aVIbm",
        "colab_type": "code",
        "outputId": "70bb89e1-88e9-4f94-f685-c037d8d984d1",
        "colab": {
          "base_uri": "https://localhost:8080/",
          "height": 34
        }
      },
      "source": [
        "sample = next(iter(dataset.train_dataloader))\n",
        "sample.keys"
      ],
      "execution_count": 0,
      "outputs": [
        {
          "output_type": "execute_result",
          "data": {
            "text/plain": [
              "['x', 'y', 'pos', 'multiscale', 'upsample', 'batch', 'category']"
            ]
          },
          "metadata": {
            "tags": []
          },
          "execution_count": 25
        }
      ]
    },
    {
      "cell_type": "markdown",
      "metadata": {
        "id": "A5pl2g9ap1Fq",
        "colab_type": "text"
      },
      "source": [
        "Our `sample` contains the pre computed spatial information in the `multiscale` (encoder side) and `upsample` (decoder) attrivutes. The decoder pre computing is quite simple and just involves some basic caching for the nearest neighbour interpolation operation. Let's take a look at the encoder side of things first. "
      ]
    },
    {
      "cell_type": "code",
      "metadata": {
        "id": "z0o8yQF4FWvV",
        "colab_type": "code",
        "outputId": "47f2abb6-d0ce-4163-8ebb-049201e5617f",
        "colab": {
          "base_uri": "https://localhost:8080/",
          "height": 191
        }
      },
      "source": [
        "sample.multiscale"
      ],
      "execution_count": 0,
      "outputs": [
        {
          "output_type": "execute_result",
          "data": {
            "text/plain": [
              "[Batch(batch=[15207], idx_neighboors=[15207, 25], pos=[15207, 3]),\n",
              " Batch(batch=[15207], idx_neighboors=[15207, 25], pos=[15207, 3]),\n",
              " Batch(batch=[10983], idx_neighboors=[10983, 25], pos=[10983, 3]),\n",
              " Batch(batch=[10983], idx_neighboors=[10983, 30], pos=[10983, 3]),\n",
              " Batch(batch=[4314], idx_neighboors=[4314, 30], pos=[4314, 3]),\n",
              " Batch(batch=[4314], idx_neighboors=[4314, 38], pos=[4314, 3]),\n",
              " Batch(batch=[1083], idx_neighboors=[1083, 38], pos=[1083, 3]),\n",
              " Batch(batch=[1083], idx_neighboors=[1083, 38], pos=[1083, 3]),\n",
              " Batch(batch=[231], idx_neighboors=[231, 38], pos=[231, 3]),\n",
              " Batch(batch=[231], idx_neighboors=[231, 38], pos=[231, 3])]"
            ]
          },
          "metadata": {
            "tags": []
          },
          "execution_count": 83
        }
      ]
    },
    {
      "cell_type": "markdown",
      "metadata": {
        "id": "B-2bjfQyqUyH",
        "colab_type": "text"
      },
      "source": [
        "`sample.multiscale` contains 10 different versions of the input batch, each one of these versions contains the location of the points in `pos` as well as the neighbours of these points in the previous point cloud. We will first look at the points coming out of each downsampling layer (strided convolution), we have 5 of them."
      ]
    },
    {
      "cell_type": "code",
      "metadata": {
        "id": "qmR0S-F5qTvV",
        "colab_type": "code",
        "cellView": "form",
        "outputId": "e3cecf5e-75d4-440d-e0e9-dc48ab62e351",
        "colab": {
          "base_uri": "https://localhost:8080/",
          "height": 263
        }
      },
      "source": [
        "#@title Successive downsampling {run:\"auto\"}\n",
        "sample_in_batch = 0 #@param {type:\"slider\", min:0, max:5, step:1}\n",
        "ms_data = sample.multiscale \n",
        "num_downsize = int(len(ms_data) / 2)\n",
        "p = pv.Plotter(notebook=True,shape=(1, num_downsize),window_size=[1024,256])\n",
        "for i in range(0,num_downsize):\n",
        "    p.subplot(0, i)\n",
        "    pos = ms_data[2*i].pos[ms_data[2*i].batch == sample_in_batch].numpy()\n",
        "    point_cloud = pv.PolyData(pos)\n",
        "    point_cloud['y'] = pos[:,1]\n",
        "    p.add_points(point_cloud,  show_scalar_bar=False, point_size=3)\n",
        "    p.add_text(\"Layer {}\".format(i+1),font_size=10)\n",
        "    p.camera_position = [-1,5, -10]\n",
        "p.show()"
      ],
      "execution_count": 0,
      "outputs": [
        {
          "output_type": "display_data",
          "data": {
            "image/png": "[encoded data removed]",
            "text/plain": [
              "<PIL.Image.Image image mode=RGB size=1024x256 at 0x7FB01526AF60>"
            ]
          },
          "metadata": {
            "tags": []
          }
        }
      ]
    },
    {
      "cell_type": "markdown",
      "metadata": {
        "id": "ONPofTEptKyL",
        "colab_type": "text"
      },
      "source": [
        "Let's now take one point in a layer (query point) and show its neighbours in the previous layer (support point)"
      ]
    },
    {
      "cell_type": "code",
      "metadata": {
        "id": "-uVmbA_OqDrg",
        "colab_type": "code",
        "cellView": "form",
        "outputId": "a23c9c09-106f-47aa-e548-a67d14509aa1",
        "colab": {
          "base_uri": "https://localhost:8080/",
          "height": 412
        }
      },
      "source": [
        "#@title Explore Neighborhood {run: \"auto\"}\n",
        "selected_layer = 7 #@param {type:\"slider\", min:1, max:9, step:1}\n",
        "sample_in_batch = 0 #@param {type:\"slider\", min:0, max:5, step:1}\n",
        "point1_id = 46 #@param {type:\"slider\", min:0, max:600, step:1}\n",
        "point2_id =  0#@param {type:\"slider\", min:0, max:600, step:1}\n",
        "\n",
        "p = pv.Plotter(notebook=True,shape=(1, 2),window_size=[1024,412])\n",
        "\n",
        "# Selected layer\n",
        "p.subplot(0, 1)\n",
        "ms_data = sample.multiscale[selected_layer]\n",
        "pos = ms_data.pos[ms_data.batch == sample_in_batch].numpy()\n",
        "nei = ms_data.idx_neighboors[ms_data.batch == sample_in_batch]\n",
        "point_cloud = pv.PolyData(pos)\n",
        "p.add_points(point_cloud,  show_scalar_bar=False, point_size=3,opacity=0.3)\n",
        "p.add_points(pos[point1_id,:],  show_scalar_bar=False, point_size=7.0,color='red')\n",
        "p.add_points(pos[point2_id,:],  show_scalar_bar=False, point_size=7.0,color='green')\n",
        "p.camera_position = [-1,5, -10]\n",
        "\n",
        "# Previous layer\n",
        "p.subplot(0, 0)\n",
        "ms_data = sample.multiscale[selected_layer-1]\n",
        "pos = ms_data.pos[ms_data.batch == sample_in_batch].numpy()\n",
        "point_cloud = pv.PolyData(pos)\n",
        "p.add_points(point_cloud,  show_scalar_bar=False,point_size=3, opacity=0.3)\n",
        "nei_pos = ms_data.pos[nei[point1_id]].numpy()\n",
        "nei_pos = nei_pos[nei[point1_id] >= 0]\n",
        "p.add_points(nei_pos,  show_scalar_bar=False, point_size=3.0,color='red')\n",
        "nei_pos = ms_data.pos[nei[point2_id]].numpy()\n",
        "nei_pos = nei_pos[nei[point2_id] >= 0]\n",
        "p.add_points(nei_pos,  show_scalar_bar=False, point_size=3.0,color='green')\n",
        "p.camera_position = [-1,5, -10]\n",
        "\n",
        "p.show()"
      ],
      "execution_count": 0,
      "outputs": [
        {
          "output_type": "display_data",
          "data": {
            "image/png": "[encoded data removed]",
            "text/plain": [
              "<PIL.Image.Image image mode=RGB size=1024x412 at 0x7FB0152DA2B0>"
            ]
          },
          "metadata": {
            "tags": []
          }
        }
      ]
    },
    {
      "cell_type": "markdown",
      "metadata": {
        "id": "OsOeG_VXW5lC",
        "colab_type": "text"
      },
      "source": [
        "## Training loop"
      ]
    },
    {
      "cell_type": "code",
      "metadata": {
        "id": "Hg3O2swzW7if",
        "colab_type": "code",
        "colab": {}
      },
      "source": [
        "import pytorch_lightning as pl\n",
        "class LightningModel(pl.LightningModule):\n",
        "    def __init__(self, model, dataset):\n",
        "        super().__init__()\n",
        "        self._model = model\n",
        "        self._dataset = dataset\n",
        "        self._tracker = dataset.get_tracker(False,False)\n",
        "\n",
        "    def forward(self, data):\n",
        "        self._model(data)\n",
        "        return self._model.get_output()\n",
        "\n",
        "    def training_step(self, data, *args):\n",
        "        self(data)\n",
        "        # self._tracker.track(self._model)\n",
        "        return {'loss': self._model.loss_seg}\n",
        "    \n",
        "    def training_epoch_end(self, outputs, *args):\n",
        "        metrics = self._tracker.get_metrics()\n",
        "        self._tracker.reset('val')\n",
        "        return {\n",
        "            'loss': torch.stack([x['loss'] for x in outputs]).mean(),\n",
        "             'log':metrics\n",
        "        }\n",
        "\n",
        "    def validation_step(self, data, *args):\n",
        "        self(data)\n",
        "        self._tracker.track(self._model)\n",
        "        return {'val_loss': self._model.loss_seg,'log': self._tracker.get_metrics()}\n",
        "\n",
        "    def validation_epoch_end(self, outputs):\n",
        "        metrics = self._tracker.get_metrics()\n",
        "        self._tracker.reset('train')\n",
        "        output = {\n",
        "            'val_loss': torch.stack([x['val_loss'] for x in outputs]).mean(),\n",
        "             'log':metrics\n",
        "        }\n",
        "        print(output)\n",
        "        return output\n",
        "\n",
        "    def configure_optimizers(self):\n",
        "        return torch.optim.Adam(self.parameters(), lr=0.001)\n",
        "\n",
        "    def train_dataloader(self):\n",
        "        return self._dataset.train_dataloader\n",
        "\n",
        "    def val_dataloader(self):\n",
        "        return self._dataset.test_dataloaders[0]"
      ],
      "execution_count": 0,
      "outputs": []
    },
    {
      "cell_type": "code",
      "metadata": {
        "id": "xFaIG1SBchHg",
        "colab_type": "code",
        "colab": {}
      },
      "source": [
        "l_model = LightningModel(model,dataset)"
      ],
      "execution_count": 0,
      "outputs": []
    },
    {
      "cell_type": "code",
      "metadata": {
        "id": "ydhhP0CdcqO1",
        "colab_type": "code",
        "outputId": "4ee97908-ad4b-4051-d923-315d6a350baa",
        "colab": {
          "base_uri": "https://localhost:8080/",
          "height": 104,
          "referenced_widgets": [
            "f978ded7d2c54d5bb5a4316fedcde92d",
            "0792d2a73fec4d75ad1260da897f84ab",
            "aca624c2651b421e82d45c1a6865d2bd",
            "0806f71ab2114d3d9b1eec12c7acdf31",
            "81714c71429046d0baea5af7b643cef8",
            "63c5043ace63469b897179b387b9777b",
            "412acd39b50d4fba9e98fea7bd6f8ab2",
            "bcb64b6b92fc479799531b8015f8a02a",
            "3afb19ad46244ca9867679e1a60bee4c",
            "10bcf5b248774e9c891819f2e5a6d619",
            "f426173e200047d48a4ef3b6a8cd1c9a",
            "1597b76753b94352880dbd02efc4537e",
            "cb59b8eb93fb403bb67ef00fc8dfb46b",
            "cc6cf8d082034599bdce258fb9456316",
            "6a40b038be824828831669c431e18730",
            "efdab77892674f9794e358f57bf896ed",
            "703d9a8ea2c04a709ac5118643bd122d",
            "e9ba125f7e3542718e5b2b4473c6a789",
            "ca6cd63eab3e4c52a1e3b24f611a41f0",
            "b455d87506e1475a9108a4fc1545faf5",
            "cc6f5df7e1af4072815866838750cd22",
            "6ec72c94ed4b42d19251f4b44d89dc7b",
            "d772406034b4475e8094ef1a175632ca",
            "4f303b90e9c044ddbb8f2287d3486b27"
          ]
        }
      },
      "source": [
        "trainer = pl.Trainer(gpus=1)\n",
        "trainer.fit(l_model)"
      ],
      "execution_count": 0,
      "outputs": [
        {
          "output_type": "display_data",
          "data": {
            "application/vnd.jupyter.widget-view+json": {
              "model_id": "f978ded7d2c54d5bb5a4316fedcde92d",
              "version_minor": 0,
              "version_major": 2
            },
            "text/plain": [
              "HBox(children=(FloatProgress(value=1.0, bar_style='info', description='Validation sanity check', layout=Layout…"
            ]
          },
          "metadata": {
            "tags": []
          }
        },
        {
          "output_type": "stream",
          "text": [
            "{'val_loss': tensor(1.7918, device='cuda:0'), 'log': {'train_loss_seg': 1.7917738914489747, 'train_Cmiou': 13.167479169738428, 'train_Imiou': 10.143413104775254}}\n",
            "\r"
          ],
          "name": "stdout"
        },
        {
          "output_type": "display_data",
          "data": {
            "application/vnd.jupyter.widget-view+json": {
              "model_id": "3afb19ad46244ca9867679e1a60bee4c",
              "version_minor": 0,
              "version_major": 2
            },
            "text/plain": [
              "HBox(children=(FloatProgress(value=1.0, bar_style='info', description='Training', layout=Layout(flex='2'), max…"
            ]
          },
          "metadata": {
            "tags": []
          }
        },
        {
          "output_type": "display_data",
          "data": {
            "application/vnd.jupyter.widget-view+json": {
              "model_id": "703d9a8ea2c04a709ac5118643bd122d",
              "version_minor": 0,
              "version_major": 2
            },
            "text/plain": [
              "HBox(children=(FloatProgress(value=1.0, bar_style='info', description='Validating', layout=Layout(flex='2'), m…"
            ]
          },
          "metadata": {
            "tags": []
          }
        },
        {
          "output_type": "stream",
          "text": [
            "{'val_loss': tensor(0.2744, device='cuda:0'), 'log': {'train_loss_seg': 0.27441825038856926, 'train_Cmiou': 69.01572039275155, 'train_Imiou': 75.92162595774656}}\n"
          ],
          "name": "stdout"
        }
      ]
    },
    {
      "cell_type": "code",
      "metadata": {
        "id": "Y69S3OsL2UKL",
        "colab_type": "code",
        "colab": {}
      },
      "source": [
        "%load_ext tensorboard\n",
        "%tensorboard --logdir lightning_logs/version_4/ # Change for your log location"
      ],
      "execution_count": 0,
      "outputs": []
    },
    {
      "cell_type": "code",
      "metadata": {
        "id": "tiXF_nwx7VCl",
        "colab_type": "code",
        "colab": {}
      },
      "source": [
        ""
      ],
      "execution_count": 0,
      "outputs": []
    }
  ]
}