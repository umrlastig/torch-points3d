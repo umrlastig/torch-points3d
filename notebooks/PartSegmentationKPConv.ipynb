{
  "nbformat": 4,
  "nbformat_minor": 0,
  "metadata": {
    "colab": {
      "name": "PartSegmentationKPConv.ipynb",
      "provenance": [],
      "collapsed_sections": [],
      "toc_visible": true,
      "machine_shape": "hm",
      "authorship_tag": "ABX9TyO2feZvZhfpMfnKMOPcR6Ut",
      "include_colab_link": true
    },
    "kernelspec": {
      "name": "python3",
      "display_name": "Python 3"
    },
    "accelerator": "GPU",
    "widgets": {
      "application/vnd.jupyter.widget-state+json": {
        "c204a57a1c474e138e1e55db17f67850": {
          "model_module": "@jupyter-widgets/controls",
          "model_name": "HBoxModel",
          "state": {
            "_view_name": "HBoxView",
            "_dom_classes": [],
            "_model_name": "HBoxModel",
            "_view_module": "@jupyter-widgets/controls",
            "_model_module_version": "1.5.0",
            "_view_count": null,
            "_view_module_version": "1.5.0",
            "box_style": "",
            "layout": "IPY_MODEL_73f26b53055d49f881de50832bfb2712",
            "_model_module": "@jupyter-widgets/controls",
            "children": [
              "IPY_MODEL_3a9b069ba99143c3b46eb7850668437d",
              "IPY_MODEL_f33ec049315245cc8c29a4945c02630c"
            ]
          }
        },
        "73f26b53055d49f881de50832bfb2712": {
          "model_module": "@jupyter-widgets/base",
          "model_name": "LayoutModel",
          "state": {
            "_view_name": "LayoutView",
            "grid_template_rows": null,
            "right": null,
            "justify_content": null,
            "_view_module": "@jupyter-widgets/base",
            "overflow": null,
            "_model_module_version": "1.2.0",
            "_view_count": null,
            "flex_flow": "row wrap",
            "width": "100%",
            "min_width": null,
            "border": null,
            "align_items": null,
            "bottom": null,
            "_model_module": "@jupyter-widgets/base",
            "top": null,
            "grid_column": null,
            "overflow_y": null,
            "overflow_x": null,
            "grid_auto_flow": null,
            "grid_area": null,
            "grid_template_columns": null,
            "flex": null,
            "_model_name": "LayoutModel",
            "justify_items": null,
            "grid_row": null,
            "max_height": null,
            "align_content": null,
            "visibility": null,
            "align_self": null,
            "height": null,
            "min_height": null,
            "padding": null,
            "grid_auto_rows": null,
            "grid_gap": null,
            "max_width": null,
            "order": null,
            "_view_module_version": "1.2.0",
            "grid_template_areas": null,
            "object_position": null,
            "object_fit": null,
            "grid_auto_columns": null,
            "margin": null,
            "display": "inline-flex",
            "left": null
          }
        },
        "3a9b069ba99143c3b46eb7850668437d": {
          "model_module": "@jupyter-widgets/controls",
          "model_name": "FloatProgressModel",
          "state": {
            "_view_name": "ProgressView",
            "style": "IPY_MODEL_a66109596b4d443698bdb88d2474f6ae",
            "_dom_classes": [],
            "description": "Validation sanity check:  60%",
            "_model_name": "FloatProgressModel",
            "bar_style": "danger",
            "max": 1,
            "_view_module": "@jupyter-widgets/controls",
            "_model_module_version": "1.5.0",
            "value": 1,
            "_view_count": null,
            "_view_module_version": "1.5.0",
            "orientation": "horizontal",
            "min": 0,
            "description_tooltip": null,
            "_model_module": "@jupyter-widgets/controls",
            "layout": "IPY_MODEL_e95a36a4499f469b8fee89200e5cf435"
          }
        },
        "f33ec049315245cc8c29a4945c02630c": {
          "model_module": "@jupyter-widgets/controls",
          "model_name": "HTMLModel",
          "state": {
            "_view_name": "HTMLView",
            "style": "IPY_MODEL_7f1967ec78024bbea620ba8e392d01f0",
            "_dom_classes": [],
            "description": "",
            "_model_name": "HTMLModel",
            "placeholder": "​",
            "_view_module": "@jupyter-widgets/controls",
            "_model_module_version": "1.5.0",
            "value": " 3/5 [00:10&lt;00:07,  3.85s/it]",
            "_view_count": null,
            "_view_module_version": "1.5.0",
            "description_tooltip": null,
            "_model_module": "@jupyter-widgets/controls",
            "layout": "IPY_MODEL_a09eb4d400d44b72a21a82bc30846b4f"
          }
        },
        "a66109596b4d443698bdb88d2474f6ae": {
          "model_module": "@jupyter-widgets/controls",
          "model_name": "ProgressStyleModel",
          "state": {
            "_view_name": "StyleView",
            "_model_name": "ProgressStyleModel",
            "description_width": "initial",
            "_view_module": "@jupyter-widgets/base",
            "_model_module_version": "1.5.0",
            "_view_count": null,
            "_view_module_version": "1.2.0",
            "bar_color": null,
            "_model_module": "@jupyter-widgets/controls"
          }
        },
        "e95a36a4499f469b8fee89200e5cf435": {
          "model_module": "@jupyter-widgets/base",
          "model_name": "LayoutModel",
          "state": {
            "_view_name": "LayoutView",
            "grid_template_rows": null,
            "right": null,
            "justify_content": null,
            "_view_module": "@jupyter-widgets/base",
            "overflow": null,
            "_model_module_version": "1.2.0",
            "_view_count": null,
            "flex_flow": null,
            "width": null,
            "min_width": null,
            "border": null,
            "align_items": null,
            "bottom": null,
            "_model_module": "@jupyter-widgets/base",
            "top": null,
            "grid_column": null,
            "overflow_y": null,
            "overflow_x": null,
            "grid_auto_flow": null,
            "grid_area": null,
            "grid_template_columns": null,
            "flex": "2",
            "_model_name": "LayoutModel",
            "justify_items": null,
            "grid_row": null,
            "max_height": null,
            "align_content": null,
            "visibility": null,
            "align_self": null,
            "height": null,
            "min_height": null,
            "padding": null,
            "grid_auto_rows": null,
            "grid_gap": null,
            "max_width": null,
            "order": null,
            "_view_module_version": "1.2.0",
            "grid_template_areas": null,
            "object_position": null,
            "object_fit": null,
            "grid_auto_columns": null,
            "margin": null,
            "display": null,
            "left": null
          }
        },
        "7f1967ec78024bbea620ba8e392d01f0": {
          "model_module": "@jupyter-widgets/controls",
          "model_name": "DescriptionStyleModel",
          "state": {
            "_view_name": "StyleView",
            "_model_name": "DescriptionStyleModel",
            "description_width": "",
            "_view_module": "@jupyter-widgets/base",
            "_model_module_version": "1.5.0",
            "_view_count": null,
            "_view_module_version": "1.2.0",
            "_model_module": "@jupyter-widgets/controls"
          }
        },
        "a09eb4d400d44b72a21a82bc30846b4f": {
          "model_module": "@jupyter-widgets/base",
          "model_name": "LayoutModel",
          "state": {
            "_view_name": "LayoutView",
            "grid_template_rows": null,
            "right": null,
            "justify_content": null,
            "_view_module": "@jupyter-widgets/base",
            "overflow": null,
            "_model_module_version": "1.2.0",
            "_view_count": null,
            "flex_flow": null,
            "width": null,
            "min_width": null,
            "border": null,
            "align_items": null,
            "bottom": null,
            "_model_module": "@jupyter-widgets/base",
            "top": null,
            "grid_column": null,
            "overflow_y": null,
            "overflow_x": null,
            "grid_auto_flow": null,
            "grid_area": null,
            "grid_template_columns": null,
            "flex": null,
            "_model_name": "LayoutModel",
            "justify_items": null,
            "grid_row": null,
            "max_height": null,
            "align_content": null,
            "visibility": null,
            "align_self": null,
            "height": null,
            "min_height": null,
            "padding": null,
            "grid_auto_rows": null,
            "grid_gap": null,
            "max_width": null,
            "order": null,
            "_view_module_version": "1.2.0",
            "grid_template_areas": null,
            "object_position": null,
            "object_fit": null,
            "grid_auto_columns": null,
            "margin": null,
            "display": null,
            "left": null
          }
        },
        "79cc3285fb744684ab6d96e6d2752300": {
          "model_module": "@jupyter-widgets/controls",
          "model_name": "HBoxModel",
          "state": {
            "_view_name": "HBoxView",
            "_dom_classes": [],
            "_model_name": "HBoxModel",
            "_view_module": "@jupyter-widgets/controls",
            "_model_module_version": "1.5.0",
            "_view_count": null,
            "_view_module_version": "1.5.0",
            "box_style": "",
            "layout": "IPY_MODEL_ed9f64c2168a4bb88f42fab96e7c93ca",
            "_model_module": "@jupyter-widgets/controls",
            "children": [
              "IPY_MODEL_6821b7ef2aa4461a9016f5f163d4877b",
              "IPY_MODEL_dcd488cca0354e7695ded0b507679e1a"
            ]
          }
        },
        "ed9f64c2168a4bb88f42fab96e7c93ca": {
          "model_module": "@jupyter-widgets/base",
          "model_name": "LayoutModel",
          "state": {
            "_view_name": "LayoutView",
            "grid_template_rows": null,
            "right": null,
            "justify_content": null,
            "_view_module": "@jupyter-widgets/base",
            "overflow": null,
            "_model_module_version": "1.2.0",
            "_view_count": null,
            "flex_flow": "row wrap",
            "width": "100%",
            "min_width": null,
            "border": null,
            "align_items": null,
            "bottom": null,
            "_model_module": "@jupyter-widgets/base",
            "top": null,
            "grid_column": null,
            "overflow_y": null,
            "overflow_x": null,
            "grid_auto_flow": null,
            "grid_area": null,
            "grid_template_columns": null,
            "flex": null,
            "_model_name": "LayoutModel",
            "justify_items": null,
            "grid_row": null,
            "max_height": null,
            "align_content": null,
            "visibility": null,
            "align_self": null,
            "height": null,
            "min_height": null,
            "padding": null,
            "grid_auto_rows": null,
            "grid_gap": null,
            "max_width": null,
            "order": null,
            "_view_module_version": "1.2.0",
            "grid_template_areas": null,
            "object_position": null,
            "object_fit": null,
            "grid_auto_columns": null,
            "margin": null,
            "display": "inline-flex",
            "left": null
          }
        },
        "6821b7ef2aa4461a9016f5f163d4877b": {
          "model_module": "@jupyter-widgets/controls",
          "model_name": "FloatProgressModel",
          "state": {
            "_view_name": "ProgressView",
            "style": "IPY_MODEL_d67013b9312d4c3c94388b939a6ad21f",
            "_dom_classes": [],
            "description": "Epoch 7:  36%",
            "_model_name": "FloatProgressModel",
            "bar_style": "info",
            "max": 14,
            "_view_module": "@jupyter-widgets/controls",
            "_model_module_version": "1.5.0",
            "value": 5,
            "_view_count": null,
            "_view_module_version": "1.5.0",
            "orientation": "horizontal",
            "min": 0,
            "description_tooltip": null,
            "_model_module": "@jupyter-widgets/controls",
            "layout": "IPY_MODEL_29208dbfb35849229000d56259e2d53e"
          }
        },
        "dcd488cca0354e7695ded0b507679e1a": {
          "model_module": "@jupyter-widgets/controls",
          "model_name": "HTMLModel",
          "state": {
            "_view_name": "HTMLView",
            "style": "IPY_MODEL_9d4f1ceeed7848afa4292ceb5302a1ec",
            "_dom_classes": [],
            "description": "",
            "_model_name": "HTMLModel",
            "placeholder": "​",
            "_view_module": "@jupyter-widgets/controls",
            "_model_module_version": "1.5.0",
            "value": " 5/14 [01:23&lt;02:30, 16.77s/it, loss=0.105, v_num=9]",
            "_view_count": null,
            "_view_module_version": "1.5.0",
            "description_tooltip": null,
            "_model_module": "@jupyter-widgets/controls",
            "layout": "IPY_MODEL_30f0bc9d5d1f4df58cdb6c016ec1bf99"
          }
        },
        "d67013b9312d4c3c94388b939a6ad21f": {
          "model_module": "@jupyter-widgets/controls",
          "model_name": "ProgressStyleModel",
          "state": {
            "_view_name": "StyleView",
            "_model_name": "ProgressStyleModel",
            "description_width": "initial",
            "_view_module": "@jupyter-widgets/base",
            "_model_module_version": "1.5.0",
            "_view_count": null,
            "_view_module_version": "1.2.0",
            "bar_color": null,
            "_model_module": "@jupyter-widgets/controls"
          }
        },
        "29208dbfb35849229000d56259e2d53e": {
          "model_module": "@jupyter-widgets/base",
          "model_name": "LayoutModel",
          "state": {
            "_view_name": "LayoutView",
            "grid_template_rows": null,
            "right": null,
            "justify_content": null,
            "_view_module": "@jupyter-widgets/base",
            "overflow": null,
            "_model_module_version": "1.2.0",
            "_view_count": null,
            "flex_flow": null,
            "width": null,
            "min_width": null,
            "border": null,
            "align_items": null,
            "bottom": null,
            "_model_module": "@jupyter-widgets/base",
            "top": null,
            "grid_column": null,
            "overflow_y": null,
            "overflow_x": null,
            "grid_auto_flow": null,
            "grid_area": null,
            "grid_template_columns": null,
            "flex": "2",
            "_model_name": "LayoutModel",
            "justify_items": null,
            "grid_row": null,
            "max_height": null,
            "align_content": null,
            "visibility": null,
            "align_self": null,
            "height": null,
            "min_height": null,
            "padding": null,
            "grid_auto_rows": null,
            "grid_gap": null,
            "max_width": null,
            "order": null,
            "_view_module_version": "1.2.0",
            "grid_template_areas": null,
            "object_position": null,
            "object_fit": null,
            "grid_auto_columns": null,
            "margin": null,
            "display": null,
            "left": null
          }
        },
        "9d4f1ceeed7848afa4292ceb5302a1ec": {
          "model_module": "@jupyter-widgets/controls",
          "model_name": "DescriptionStyleModel",
          "state": {
            "_view_name": "StyleView",
            "_model_name": "DescriptionStyleModel",
            "description_width": "",
            "_view_module": "@jupyter-widgets/base",
            "_model_module_version": "1.5.0",
            "_view_count": null,
            "_view_module_version": "1.2.0",
            "_model_module": "@jupyter-widgets/controls"
          }
        },
        "30f0bc9d5d1f4df58cdb6c016ec1bf99": {
          "model_module": "@jupyter-widgets/base",
          "model_name": "LayoutModel",
          "state": {
            "_view_name": "LayoutView",
            "grid_template_rows": null,
            "right": null,
            "justify_content": null,
            "_view_module": "@jupyter-widgets/base",
            "overflow": null,
            "_model_module_version": "1.2.0",
            "_view_count": null,
            "flex_flow": null,
            "width": null,
            "min_width": null,
            "border": null,
            "align_items": null,
            "bottom": null,
            "_model_module": "@jupyter-widgets/base",
            "top": null,
            "grid_column": null,
            "overflow_y": null,
            "overflow_x": null,
            "grid_auto_flow": null,
            "grid_area": null,
            "grid_template_columns": null,
            "flex": null,
            "_model_name": "LayoutModel",
            "justify_items": null,
            "grid_row": null,
            "max_height": null,
            "align_content": null,
            "visibility": null,
            "align_self": null,
            "height": null,
            "min_height": null,
            "padding": null,
            "grid_auto_rows": null,
            "grid_gap": null,
            "max_width": null,
            "order": null,
            "_view_module_version": "1.2.0",
            "grid_template_areas": null,
            "object_position": null,
            "object_fit": null,
            "grid_auto_columns": null,
            "margin": null,
            "display": null,
            "left": null
          }
        },
        "f2c3790d6e1c4db58f6b12a8dd80c2a8": {
          "model_module": "@jupyter-widgets/controls",
          "model_name": "HBoxModel",
          "state": {
            "_view_name": "HBoxView",
            "_dom_classes": [],
            "_model_name": "HBoxModel",
            "_view_module": "@jupyter-widgets/controls",
            "_model_module_version": "1.5.0",
            "_view_count": null,
            "_view_module_version": "1.5.0",
            "box_style": "",
            "layout": "IPY_MODEL_0fb2be726282414fae8622e155ae7ca3",
            "_model_module": "@jupyter-widgets/controls",
            "children": [
              "IPY_MODEL_ce800c9da9b24522b33d8a8ad081df2f",
              "IPY_MODEL_773b842d851549b78748245b8b4f0f02"
            ]
          }
        },
        "0fb2be726282414fae8622e155ae7ca3": {
          "model_module": "@jupyter-widgets/base",
          "model_name": "LayoutModel",
          "state": {
            "_view_name": "LayoutView",
            "grid_template_rows": null,
            "right": null,
            "justify_content": null,
            "_view_module": "@jupyter-widgets/base",
            "overflow": null,
            "_model_module_version": "1.2.0",
            "_view_count": null,
            "flex_flow": "row wrap",
            "width": "100%",
            "min_width": null,
            "border": null,
            "align_items": null,
            "bottom": null,
            "_model_module": "@jupyter-widgets/base",
            "top": null,
            "grid_column": null,
            "overflow_y": null,
            "overflow_x": null,
            "grid_auto_flow": null,
            "grid_area": null,
            "grid_template_columns": null,
            "flex": null,
            "_model_name": "LayoutModel",
            "justify_items": null,
            "grid_row": null,
            "max_height": null,
            "align_content": null,
            "visibility": null,
            "align_self": null,
            "height": null,
            "min_height": null,
            "padding": null,
            "grid_auto_rows": null,
            "grid_gap": null,
            "max_width": null,
            "order": null,
            "_view_module_version": "1.2.0",
            "grid_template_areas": null,
            "object_position": null,
            "object_fit": null,
            "grid_auto_columns": null,
            "margin": null,
            "display": "inline-flex",
            "left": null
          }
        },
        "ce800c9da9b24522b33d8a8ad081df2f": {
          "model_module": "@jupyter-widgets/controls",
          "model_name": "FloatProgressModel",
          "state": {
            "_view_name": "ProgressView",
            "style": "IPY_MODEL_16265d8e558448efb2bfb424f3a12e4c",
            "_dom_classes": [],
            "description": "Validating: 100%",
            "_model_name": "FloatProgressModel",
            "bar_style": "info",
            "max": 1,
            "_view_module": "@jupyter-widgets/controls",
            "_model_module_version": "1.5.0",
            "value": 1,
            "_view_count": null,
            "_view_module_version": "1.5.0",
            "orientation": "horizontal",
            "min": 0,
            "description_tooltip": null,
            "_model_module": "@jupyter-widgets/controls",
            "layout": "IPY_MODEL_1936f7e8bebc44be91d3186685026df3"
          }
        },
        "773b842d851549b78748245b8b4f0f02": {
          "model_module": "@jupyter-widgets/controls",
          "model_name": "HTMLModel",
          "state": {
            "_view_name": "HTMLView",
            "style": "IPY_MODEL_b3b2fb46cfa042a584a055bc874bd1ca",
            "_dom_classes": [],
            "description": "",
            "_model_name": "HTMLModel",
            "placeholder": "​",
            "_view_module": "@jupyter-widgets/controls",
            "_model_module_version": "1.5.0",
            "value": " 3/3 [00:10&lt;00:00,  3.90s/it]",
            "_view_count": null,
            "_view_module_version": "1.5.0",
            "description_tooltip": null,
            "_model_module": "@jupyter-widgets/controls",
            "layout": "IPY_MODEL_a42f080ded104d5d8ec29ccaec1ac913"
          }
        },
        "16265d8e558448efb2bfb424f3a12e4c": {
          "model_module": "@jupyter-widgets/controls",
          "model_name": "ProgressStyleModel",
          "state": {
            "_view_name": "StyleView",
            "_model_name": "ProgressStyleModel",
            "description_width": "initial",
            "_view_module": "@jupyter-widgets/base",
            "_model_module_version": "1.5.0",
            "_view_count": null,
            "_view_module_version": "1.2.0",
            "bar_color": null,
            "_model_module": "@jupyter-widgets/controls"
          }
        },
        "1936f7e8bebc44be91d3186685026df3": {
          "model_module": "@jupyter-widgets/base",
          "model_name": "LayoutModel",
          "state": {
            "_view_name": "LayoutView",
            "grid_template_rows": null,
            "right": null,
            "justify_content": null,
            "_view_module": "@jupyter-widgets/base",
            "overflow": null,
            "_model_module_version": "1.2.0",
            "_view_count": null,
            "flex_flow": null,
            "width": null,
            "min_width": null,
            "border": null,
            "align_items": null,
            "bottom": null,
            "_model_module": "@jupyter-widgets/base",
            "top": null,
            "grid_column": null,
            "overflow_y": null,
            "overflow_x": null,
            "grid_auto_flow": null,
            "grid_area": null,
            "grid_template_columns": null,
            "flex": "2",
            "_model_name": "LayoutModel",
            "justify_items": null,
            "grid_row": null,
            "max_height": null,
            "align_content": null,
            "visibility": null,
            "align_self": null,
            "height": null,
            "min_height": null,
            "padding": null,
            "grid_auto_rows": null,
            "grid_gap": null,
            "max_width": null,
            "order": null,
            "_view_module_version": "1.2.0",
            "grid_template_areas": null,
            "object_position": null,
            "object_fit": null,
            "grid_auto_columns": null,
            "margin": null,
            "display": null,
            "left": null
          }
        },
        "b3b2fb46cfa042a584a055bc874bd1ca": {
          "model_module": "@jupyter-widgets/controls",
          "model_name": "DescriptionStyleModel",
          "state": {
            "_view_name": "StyleView",
            "_model_name": "DescriptionStyleModel",
            "description_width": "",
            "_view_module": "@jupyter-widgets/base",
            "_model_module_version": "1.5.0",
            "_view_count": null,
            "_view_module_version": "1.2.0",
            "_model_module": "@jupyter-widgets/controls"
          }
        },
        "a42f080ded104d5d8ec29ccaec1ac913": {
          "model_module": "@jupyter-widgets/base",
          "model_name": "LayoutModel",
          "state": {
            "_view_name": "LayoutView",
            "grid_template_rows": null,
            "right": null,
            "justify_content": null,
            "_view_module": "@jupyter-widgets/base",
            "overflow": null,
            "_model_module_version": "1.2.0",
            "_view_count": null,
            "flex_flow": null,
            "width": null,
            "min_width": null,
            "border": null,
            "align_items": null,
            "bottom": null,
            "_model_module": "@jupyter-widgets/base",
            "top": null,
            "grid_column": null,
            "overflow_y": null,
            "overflow_x": null,
            "grid_auto_flow": null,
            "grid_area": null,
            "grid_template_columns": null,
            "flex": null,
            "_model_name": "LayoutModel",
            "justify_items": null,
            "grid_row": null,
            "max_height": null,
            "align_content": null,
            "visibility": null,
            "align_self": null,
            "height": null,
            "min_height": null,
            "padding": null,
            "grid_auto_rows": null,
            "grid_gap": null,
            "max_width": null,
            "order": null,
            "_view_module_version": "1.2.0",
            "grid_template_areas": null,
            "object_position": null,
            "object_fit": null,
            "grid_auto_columns": null,
            "margin": null,
            "display": null,
            "left": null
          }
        },
        "f54ba7aca5f447fc962737944e845572": {
          "model_module": "@jupyter-widgets/controls",
          "model_name": "HBoxModel",
          "state": {
            "_view_name": "HBoxView",
            "_dom_classes": [],
            "_model_name": "HBoxModel",
            "_view_module": "@jupyter-widgets/controls",
            "_model_module_version": "1.5.0",
            "_view_count": null,
            "_view_module_version": "1.5.0",
            "box_style": "",
            "layout": "IPY_MODEL_5f39c39abd5442cda9fa53c896a80ea2",
            "_model_module": "@jupyter-widgets/controls",
            "children": [
              "IPY_MODEL_9d1f52483a9f4fe3af17f37b9126d788",
              "IPY_MODEL_789c743f9787441bb69651f7cc2bc8c9"
            ]
          }
        },
        "5f39c39abd5442cda9fa53c896a80ea2": {
          "model_module": "@jupyter-widgets/base",
          "model_name": "LayoutModel",
          "state": {
            "_view_name": "LayoutView",
            "grid_template_rows": null,
            "right": null,
            "justify_content": null,
            "_view_module": "@jupyter-widgets/base",
            "overflow": null,
            "_model_module_version": "1.2.0",
            "_view_count": null,
            "flex_flow": "row wrap",
            "width": "100%",
            "min_width": null,
            "border": null,
            "align_items": null,
            "bottom": null,
            "_model_module": "@jupyter-widgets/base",
            "top": null,
            "grid_column": null,
            "overflow_y": null,
            "overflow_x": null,
            "grid_auto_flow": null,
            "grid_area": null,
            "grid_template_columns": null,
            "flex": null,
            "_model_name": "LayoutModel",
            "justify_items": null,
            "grid_row": null,
            "max_height": null,
            "align_content": null,
            "visibility": null,
            "align_self": null,
            "height": null,
            "min_height": null,
            "padding": null,
            "grid_auto_rows": null,
            "grid_gap": null,
            "max_width": null,
            "order": null,
            "_view_module_version": "1.2.0",
            "grid_template_areas": null,
            "object_position": null,
            "object_fit": null,
            "grid_auto_columns": null,
            "margin": null,
            "display": "inline-flex",
            "left": null
          }
        },
        "9d1f52483a9f4fe3af17f37b9126d788": {
          "model_module": "@jupyter-widgets/controls",
          "model_name": "FloatProgressModel",
          "state": {
            "_view_name": "ProgressView",
            "style": "IPY_MODEL_155bb868dfb34369968ce8c8479ad462",
            "_dom_classes": [],
            "description": "Validating: 100%",
            "_model_name": "FloatProgressModel",
            "bar_style": "info",
            "max": 1,
            "_view_module": "@jupyter-widgets/controls",
            "_model_module_version": "1.5.0",
            "value": 1,
            "_view_count": null,
            "_view_module_version": "1.5.0",
            "orientation": "horizontal",
            "min": 0,
            "description_tooltip": null,
            "_model_module": "@jupyter-widgets/controls",
            "layout": "IPY_MODEL_30dc0c8fc11e409b9e0b4f7ed73f8b1e"
          }
        },
        "789c743f9787441bb69651f7cc2bc8c9": {
          "model_module": "@jupyter-widgets/controls",
          "model_name": "HTMLModel",
          "state": {
            "_view_name": "HTMLView",
            "style": "IPY_MODEL_67a8c2b81d1b471eba0583a40e16f8dc",
            "_dom_classes": [],
            "description": "",
            "_model_name": "HTMLModel",
            "placeholder": "​",
            "_view_module": "@jupyter-widgets/controls",
            "_model_module_version": "1.5.0",
            "value": " 3/3 [00:10&lt;00:00,  3.95s/it]",
            "_view_count": null,
            "_view_module_version": "1.5.0",
            "description_tooltip": null,
            "_model_module": "@jupyter-widgets/controls",
            "layout": "IPY_MODEL_d7aacf61b0e3412da27f287da903b395"
          }
        },
        "155bb868dfb34369968ce8c8479ad462": {
          "model_module": "@jupyter-widgets/controls",
          "model_name": "ProgressStyleModel",
          "state": {
            "_view_name": "StyleView",
            "_model_name": "ProgressStyleModel",
            "description_width": "initial",
            "_view_module": "@jupyter-widgets/base",
            "_model_module_version": "1.5.0",
            "_view_count": null,
            "_view_module_version": "1.2.0",
            "bar_color": null,
            "_model_module": "@jupyter-widgets/controls"
          }
        },
        "30dc0c8fc11e409b9e0b4f7ed73f8b1e": {
          "model_module": "@jupyter-widgets/base",
          "model_name": "LayoutModel",
          "state": {
            "_view_name": "LayoutView",
            "grid_template_rows": null,
            "right": null,
            "justify_content": null,
            "_view_module": "@jupyter-widgets/base",
            "overflow": null,
            "_model_module_version": "1.2.0",
            "_view_count": null,
            "flex_flow": null,
            "width": null,
            "min_width": null,
            "border": null,
            "align_items": null,
            "bottom": null,
            "_model_module": "@jupyter-widgets/base",
            "top": null,
            "grid_column": null,
            "overflow_y": null,
            "overflow_x": null,
            "grid_auto_flow": null,
            "grid_area": null,
            "grid_template_columns": null,
            "flex": "2",
            "_model_name": "LayoutModel",
            "justify_items": null,
            "grid_row": null,
            "max_height": null,
            "align_content": null,
            "visibility": null,
            "align_self": null,
            "height": null,
            "min_height": null,
            "padding": null,
            "grid_auto_rows": null,
            "grid_gap": null,
            "max_width": null,
            "order": null,
            "_view_module_version": "1.2.0",
            "grid_template_areas": null,
            "object_position": null,
            "object_fit": null,
            "grid_auto_columns": null,
            "margin": null,
            "display": null,
            "left": null
          }
        },
        "67a8c2b81d1b471eba0583a40e16f8dc": {
          "model_module": "@jupyter-widgets/controls",
          "model_name": "DescriptionStyleModel",
          "state": {
            "_view_name": "StyleView",
            "_model_name": "DescriptionStyleModel",
            "description_width": "",
            "_view_module": "@jupyter-widgets/base",
            "_model_module_version": "1.5.0",
            "_view_count": null,
            "_view_module_version": "1.2.0",
            "_model_module": "@jupyter-widgets/controls"
          }
        },
        "d7aacf61b0e3412da27f287da903b395": {
          "model_module": "@jupyter-widgets/base",
          "model_name": "LayoutModel",
          "state": {
            "_view_name": "LayoutView",
            "grid_template_rows": null,
            "right": null,
            "justify_content": null,
            "_view_module": "@jupyter-widgets/base",
            "overflow": null,
            "_model_module_version": "1.2.0",
            "_view_count": null,
            "flex_flow": null,
            "width": null,
            "min_width": null,
            "border": null,
            "align_items": null,
            "bottom": null,
            "_model_module": "@jupyter-widgets/base",
            "top": null,
            "grid_column": null,
            "overflow_y": null,
            "overflow_x": null,
            "grid_auto_flow": null,
            "grid_area": null,
            "grid_template_columns": null,
            "flex": null,
            "_model_name": "LayoutModel",
            "justify_items": null,
            "grid_row": null,
            "max_height": null,
            "align_content": null,
            "visibility": null,
            "align_self": null,
            "height": null,
            "min_height": null,
            "padding": null,
            "grid_auto_rows": null,
            "grid_gap": null,
            "max_width": null,
            "order": null,
            "_view_module_version": "1.2.0",
            "grid_template_areas": null,
            "object_position": null,
            "object_fit": null,
            "grid_auto_columns": null,
            "margin": null,
            "display": null,
            "left": null
          }
        },
        "33b9d2a85ac44c05aac6214698c30104": {
          "model_module": "@jupyter-widgets/controls",
          "model_name": "HBoxModel",
          "state": {
            "_view_name": "HBoxView",
            "_dom_classes": [],
            "_model_name": "HBoxModel",
            "_view_module": "@jupyter-widgets/controls",
            "_model_module_version": "1.5.0",
            "_view_count": null,
            "_view_module_version": "1.5.0",
            "box_style": "",
            "layout": "IPY_MODEL_e0eacb0bbe304d2f93f64de232611a63",
            "_model_module": "@jupyter-widgets/controls",
            "children": [
              "IPY_MODEL_7da11fecb3f04d45b91dd394642083db",
              "IPY_MODEL_6c49dc73dfe64b95924bc3b3f706e97e"
            ]
          }
        },
        "e0eacb0bbe304d2f93f64de232611a63": {
          "model_module": "@jupyter-widgets/base",
          "model_name": "LayoutModel",
          "state": {
            "_view_name": "LayoutView",
            "grid_template_rows": null,
            "right": null,
            "justify_content": null,
            "_view_module": "@jupyter-widgets/base",
            "overflow": null,
            "_model_module_version": "1.2.0",
            "_view_count": null,
            "flex_flow": "row wrap",
            "width": "100%",
            "min_width": null,
            "border": null,
            "align_items": null,
            "bottom": null,
            "_model_module": "@jupyter-widgets/base",
            "top": null,
            "grid_column": null,
            "overflow_y": null,
            "overflow_x": null,
            "grid_auto_flow": null,
            "grid_area": null,
            "grid_template_columns": null,
            "flex": null,
            "_model_name": "LayoutModel",
            "justify_items": null,
            "grid_row": null,
            "max_height": null,
            "align_content": null,
            "visibility": null,
            "align_self": null,
            "height": null,
            "min_height": null,
            "padding": null,
            "grid_auto_rows": null,
            "grid_gap": null,
            "max_width": null,
            "order": null,
            "_view_module_version": "1.2.0",
            "grid_template_areas": null,
            "object_position": null,
            "object_fit": null,
            "grid_auto_columns": null,
            "margin": null,
            "display": "inline-flex",
            "left": null
          }
        },
        "7da11fecb3f04d45b91dd394642083db": {
          "model_module": "@jupyter-widgets/controls",
          "model_name": "FloatProgressModel",
          "state": {
            "_view_name": "ProgressView",
            "style": "IPY_MODEL_148f8593a7684c52a8c7cf746a5e4ffa",
            "_dom_classes": [],
            "description": "Validating: 100%",
            "_model_name": "FloatProgressModel",
            "bar_style": "info",
            "max": 1,
            "_view_module": "@jupyter-widgets/controls",
            "_model_module_version": "1.5.0",
            "value": 1,
            "_view_count": null,
            "_view_module_version": "1.5.0",
            "orientation": "horizontal",
            "min": 0,
            "description_tooltip": null,
            "_model_module": "@jupyter-widgets/controls",
            "layout": "IPY_MODEL_60a0c9d4443141dbb7d53ddb3234c862"
          }
        },
        "6c49dc73dfe64b95924bc3b3f706e97e": {
          "model_module": "@jupyter-widgets/controls",
          "model_name": "HTMLModel",
          "state": {
            "_view_name": "HTMLView",
            "style": "IPY_MODEL_9e8f1ade71b44270881a6e1368ca773f",
            "_dom_classes": [],
            "description": "",
            "_model_name": "HTMLModel",
            "placeholder": "​",
            "_view_module": "@jupyter-widgets/controls",
            "_model_module_version": "1.5.0",
            "value": " 3/3 [00:10&lt;00:00,  3.90s/it]",
            "_view_count": null,
            "_view_module_version": "1.5.0",
            "description_tooltip": null,
            "_model_module": "@jupyter-widgets/controls",
            "layout": "IPY_MODEL_e526224beade46439b8824e917976115"
          }
        },
        "148f8593a7684c52a8c7cf746a5e4ffa": {
          "model_module": "@jupyter-widgets/controls",
          "model_name": "ProgressStyleModel",
          "state": {
            "_view_name": "StyleView",
            "_model_name": "ProgressStyleModel",
            "description_width": "initial",
            "_view_module": "@jupyter-widgets/base",
            "_model_module_version": "1.5.0",
            "_view_count": null,
            "_view_module_version": "1.2.0",
            "bar_color": null,
            "_model_module": "@jupyter-widgets/controls"
          }
        },
        "60a0c9d4443141dbb7d53ddb3234c862": {
          "model_module": "@jupyter-widgets/base",
          "model_name": "LayoutModel",
          "state": {
            "_view_name": "LayoutView",
            "grid_template_rows": null,
            "right": null,
            "justify_content": null,
            "_view_module": "@jupyter-widgets/base",
            "overflow": null,
            "_model_module_version": "1.2.0",
            "_view_count": null,
            "flex_flow": null,
            "width": null,
            "min_width": null,
            "border": null,
            "align_items": null,
            "bottom": null,
            "_model_module": "@jupyter-widgets/base",
            "top": null,
            "grid_column": null,
            "overflow_y": null,
            "overflow_x": null,
            "grid_auto_flow": null,
            "grid_area": null,
            "grid_template_columns": null,
            "flex": "2",
            "_model_name": "LayoutModel",
            "justify_items": null,
            "grid_row": null,
            "max_height": null,
            "align_content": null,
            "visibility": null,
            "align_self": null,
            "height": null,
            "min_height": null,
            "padding": null,
            "grid_auto_rows": null,
            "grid_gap": null,
            "max_width": null,
            "order": null,
            "_view_module_version": "1.2.0",
            "grid_template_areas": null,
            "object_position": null,
            "object_fit": null,
            "grid_auto_columns": null,
            "margin": null,
            "display": null,
            "left": null
          }
        },
        "9e8f1ade71b44270881a6e1368ca773f": {
          "model_module": "@jupyter-widgets/controls",
          "model_name": "DescriptionStyleModel",
          "state": {
            "_view_name": "StyleView",
            "_model_name": "DescriptionStyleModel",
            "description_width": "",
            "_view_module": "@jupyter-widgets/base",
            "_model_module_version": "1.5.0",
            "_view_count": null,
            "_view_module_version": "1.2.0",
            "_model_module": "@jupyter-widgets/controls"
          }
        },
        "e526224beade46439b8824e917976115": {
          "model_module": "@jupyter-widgets/base",
          "model_name": "LayoutModel",
          "state": {
            "_view_name": "LayoutView",
            "grid_template_rows": null,
            "right": null,
            "justify_content": null,
            "_view_module": "@jupyter-widgets/base",
            "overflow": null,
            "_model_module_version": "1.2.0",
            "_view_count": null,
            "flex_flow": null,
            "width": null,
            "min_width": null,
            "border": null,
            "align_items": null,
            "bottom": null,
            "_model_module": "@jupyter-widgets/base",
            "top": null,
            "grid_column": null,
            "overflow_y": null,
            "overflow_x": null,
            "grid_auto_flow": null,
            "grid_area": null,
            "grid_template_columns": null,
            "flex": null,
            "_model_name": "LayoutModel",
            "justify_items": null,
            "grid_row": null,
            "max_height": null,
            "align_content": null,
            "visibility": null,
            "align_self": null,
            "height": null,
            "min_height": null,
            "padding": null,
            "grid_auto_rows": null,
            "grid_gap": null,
            "max_width": null,
            "order": null,
            "_view_module_version": "1.2.0",
            "grid_template_areas": null,
            "object_position": null,
            "object_fit": null,
            "grid_auto_columns": null,
            "margin": null,
            "display": null,
            "left": null
          }
        },
        "0d832f12bd704c738ea826af0fc496a0": {
          "model_module": "@jupyter-widgets/controls",
          "model_name": "HBoxModel",
          "state": {
            "_view_name": "HBoxView",
            "_dom_classes": [],
            "_model_name": "HBoxModel",
            "_view_module": "@jupyter-widgets/controls",
            "_model_module_version": "1.5.0",
            "_view_count": null,
            "_view_module_version": "1.5.0",
            "box_style": "",
            "layout": "IPY_MODEL_4bf8d3b1b5a34b34b658472026d67037",
            "_model_module": "@jupyter-widgets/controls",
            "children": [
              "IPY_MODEL_e5d5d0841b97473cbfe788b839c0937f",
              "IPY_MODEL_06b7860151fc4a49896b3c9bf56086bd"
            ]
          }
        },
        "4bf8d3b1b5a34b34b658472026d67037": {
          "model_module": "@jupyter-widgets/base",
          "model_name": "LayoutModel",
          "state": {
            "_view_name": "LayoutView",
            "grid_template_rows": null,
            "right": null,
            "justify_content": null,
            "_view_module": "@jupyter-widgets/base",
            "overflow": null,
            "_model_module_version": "1.2.0",
            "_view_count": null,
            "flex_flow": "row wrap",
            "width": "100%",
            "min_width": null,
            "border": null,
            "align_items": null,
            "bottom": null,
            "_model_module": "@jupyter-widgets/base",
            "top": null,
            "grid_column": null,
            "overflow_y": null,
            "overflow_x": null,
            "grid_auto_flow": null,
            "grid_area": null,
            "grid_template_columns": null,
            "flex": null,
            "_model_name": "LayoutModel",
            "justify_items": null,
            "grid_row": null,
            "max_height": null,
            "align_content": null,
            "visibility": null,
            "align_self": null,
            "height": null,
            "min_height": null,
            "padding": null,
            "grid_auto_rows": null,
            "grid_gap": null,
            "max_width": null,
            "order": null,
            "_view_module_version": "1.2.0",
            "grid_template_areas": null,
            "object_position": null,
            "object_fit": null,
            "grid_auto_columns": null,
            "margin": null,
            "display": "inline-flex",
            "left": null
          }
        },
        "e5d5d0841b97473cbfe788b839c0937f": {
          "model_module": "@jupyter-widgets/controls",
          "model_name": "FloatProgressModel",
          "state": {
            "_view_name": "ProgressView",
            "style": "IPY_MODEL_eabd55dc1dcc4bd2b3e3dcd685fe1af6",
            "_dom_classes": [],
            "description": "Validating: 100%",
            "_model_name": "FloatProgressModel",
            "bar_style": "info",
            "max": 1,
            "_view_module": "@jupyter-widgets/controls",
            "_model_module_version": "1.5.0",
            "value": 1,
            "_view_count": null,
            "_view_module_version": "1.5.0",
            "orientation": "horizontal",
            "min": 0,
            "description_tooltip": null,
            "_model_module": "@jupyter-widgets/controls",
            "layout": "IPY_MODEL_231d940a5e2845a0a810437b2b970e95"
          }
        },
        "06b7860151fc4a49896b3c9bf56086bd": {
          "model_module": "@jupyter-widgets/controls",
          "model_name": "HTMLModel",
          "state": {
            "_view_name": "HTMLView",
            "style": "IPY_MODEL_7ab08f257f8d4a398ab17702d287a2c7",
            "_dom_classes": [],
            "description": "",
            "_model_name": "HTMLModel",
            "placeholder": "​",
            "_view_module": "@jupyter-widgets/controls",
            "_model_module_version": "1.5.0",
            "value": " 3/3 [00:10&lt;00:00,  4.02s/it]",
            "_view_count": null,
            "_view_module_version": "1.5.0",
            "description_tooltip": null,
            "_model_module": "@jupyter-widgets/controls",
            "layout": "IPY_MODEL_3c6715993df84a628978e44cafc4d236"
          }
        },
        "eabd55dc1dcc4bd2b3e3dcd685fe1af6": {
          "model_module": "@jupyter-widgets/controls",
          "model_name": "ProgressStyleModel",
          "state": {
            "_view_name": "StyleView",
            "_model_name": "ProgressStyleModel",
            "description_width": "initial",
            "_view_module": "@jupyter-widgets/base",
            "_model_module_version": "1.5.0",
            "_view_count": null,
            "_view_module_version": "1.2.0",
            "bar_color": null,
            "_model_module": "@jupyter-widgets/controls"
          }
        },
        "231d940a5e2845a0a810437b2b970e95": {
          "model_module": "@jupyter-widgets/base",
          "model_name": "LayoutModel",
          "state": {
            "_view_name": "LayoutView",
            "grid_template_rows": null,
            "right": null,
            "justify_content": null,
            "_view_module": "@jupyter-widgets/base",
            "overflow": null,
            "_model_module_version": "1.2.0",
            "_view_count": null,
            "flex_flow": null,
            "width": null,
            "min_width": null,
            "border": null,
            "align_items": null,
            "bottom": null,
            "_model_module": "@jupyter-widgets/base",
            "top": null,
            "grid_column": null,
            "overflow_y": null,
            "overflow_x": null,
            "grid_auto_flow": null,
            "grid_area": null,
            "grid_template_columns": null,
            "flex": "2",
            "_model_name": "LayoutModel",
            "justify_items": null,
            "grid_row": null,
            "max_height": null,
            "align_content": null,
            "visibility": null,
            "align_self": null,
            "height": null,
            "min_height": null,
            "padding": null,
            "grid_auto_rows": null,
            "grid_gap": null,
            "max_width": null,
            "order": null,
            "_view_module_version": "1.2.0",
            "grid_template_areas": null,
            "object_position": null,
            "object_fit": null,
            "grid_auto_columns": null,
            "margin": null,
            "display": null,
            "left": null
          }
        },
        "7ab08f257f8d4a398ab17702d287a2c7": {
          "model_module": "@jupyter-widgets/controls",
          "model_name": "DescriptionStyleModel",
          "state": {
            "_view_name": "StyleView",
            "_model_name": "DescriptionStyleModel",
            "description_width": "",
            "_view_module": "@jupyter-widgets/base",
            "_model_module_version": "1.5.0",
            "_view_count": null,
            "_view_module_version": "1.2.0",
            "_model_module": "@jupyter-widgets/controls"
          }
        },
        "3c6715993df84a628978e44cafc4d236": {
          "model_module": "@jupyter-widgets/base",
          "model_name": "LayoutModel",
          "state": {
            "_view_name": "LayoutView",
            "grid_template_rows": null,
            "right": null,
            "justify_content": null,
            "_view_module": "@jupyter-widgets/base",
            "overflow": null,
            "_model_module_version": "1.2.0",
            "_view_count": null,
            "flex_flow": null,
            "width": null,
            "min_width": null,
            "border": null,
            "align_items": null,
            "bottom": null,
            "_model_module": "@jupyter-widgets/base",
            "top": null,
            "grid_column": null,
            "overflow_y": null,
            "overflow_x": null,
            "grid_auto_flow": null,
            "grid_area": null,
            "grid_template_columns": null,
            "flex": null,
            "_model_name": "LayoutModel",
            "justify_items": null,
            "grid_row": null,
            "max_height": null,
            "align_content": null,
            "visibility": null,
            "align_self": null,
            "height": null,
            "min_height": null,
            "padding": null,
            "grid_auto_rows": null,
            "grid_gap": null,
            "max_width": null,
            "order": null,
            "_view_module_version": "1.2.0",
            "grid_template_areas": null,
            "object_position": null,
            "object_fit": null,
            "grid_auto_columns": null,
            "margin": null,
            "display": null,
            "left": null
          }
        },
        "7942dda1e971426891e6d9535478e4bd": {
          "model_module": "@jupyter-widgets/controls",
          "model_name": "HBoxModel",
          "state": {
            "_view_name": "HBoxView",
            "_dom_classes": [],
            "_model_name": "HBoxModel",
            "_view_module": "@jupyter-widgets/controls",
            "_model_module_version": "1.5.0",
            "_view_count": null,
            "_view_module_version": "1.5.0",
            "box_style": "",
            "layout": "IPY_MODEL_3189d86ea15b411eac4a78f144659e65",
            "_model_module": "@jupyter-widgets/controls",
            "children": [
              "IPY_MODEL_ad1361048da547ad980811dd9b028f25",
              "IPY_MODEL_44ca24efa80b403e91fe10011972fe93"
            ]
          }
        },
        "3189d86ea15b411eac4a78f144659e65": {
          "model_module": "@jupyter-widgets/base",
          "model_name": "LayoutModel",
          "state": {
            "_view_name": "LayoutView",
            "grid_template_rows": null,
            "right": null,
            "justify_content": null,
            "_view_module": "@jupyter-widgets/base",
            "overflow": null,
            "_model_module_version": "1.2.0",
            "_view_count": null,
            "flex_flow": "row wrap",
            "width": "100%",
            "min_width": null,
            "border": null,
            "align_items": null,
            "bottom": null,
            "_model_module": "@jupyter-widgets/base",
            "top": null,
            "grid_column": null,
            "overflow_y": null,
            "overflow_x": null,
            "grid_auto_flow": null,
            "grid_area": null,
            "grid_template_columns": null,
            "flex": null,
            "_model_name": "LayoutModel",
            "justify_items": null,
            "grid_row": null,
            "max_height": null,
            "align_content": null,
            "visibility": null,
            "align_self": null,
            "height": null,
            "min_height": null,
            "padding": null,
            "grid_auto_rows": null,
            "grid_gap": null,
            "max_width": null,
            "order": null,
            "_view_module_version": "1.2.0",
            "grid_template_areas": null,
            "object_position": null,
            "object_fit": null,
            "grid_auto_columns": null,
            "margin": null,
            "display": "inline-flex",
            "left": null
          }
        },
        "ad1361048da547ad980811dd9b028f25": {
          "model_module": "@jupyter-widgets/controls",
          "model_name": "FloatProgressModel",
          "state": {
            "_view_name": "ProgressView",
            "style": "IPY_MODEL_b01e27359ea34465bb1baf0b1a2976a6",
            "_dom_classes": [],
            "description": "Validating: 100%",
            "_model_name": "FloatProgressModel",
            "bar_style": "info",
            "max": 1,
            "_view_module": "@jupyter-widgets/controls",
            "_model_module_version": "1.5.0",
            "value": 1,
            "_view_count": null,
            "_view_module_version": "1.5.0",
            "orientation": "horizontal",
            "min": 0,
            "description_tooltip": null,
            "_model_module": "@jupyter-widgets/controls",
            "layout": "IPY_MODEL_421b9c8b56034fa08e920028b9200a69"
          }
        },
        "44ca24efa80b403e91fe10011972fe93": {
          "model_module": "@jupyter-widgets/controls",
          "model_name": "HTMLModel",
          "state": {
            "_view_name": "HTMLView",
            "style": "IPY_MODEL_be61ae48d1be47f687bd75523453a500",
            "_dom_classes": [],
            "description": "",
            "_model_name": "HTMLModel",
            "placeholder": "​",
            "_view_module": "@jupyter-widgets/controls",
            "_model_module_version": "1.5.0",
            "value": " 3/3 [00:10&lt;00:00,  3.90s/it]",
            "_view_count": null,
            "_view_module_version": "1.5.0",
            "description_tooltip": null,
            "_model_module": "@jupyter-widgets/controls",
            "layout": "IPY_MODEL_6861cf007cfd4936b27e24e8548b6bcf"
          }
        },
        "b01e27359ea34465bb1baf0b1a2976a6": {
          "model_module": "@jupyter-widgets/controls",
          "model_name": "ProgressStyleModel",
          "state": {
            "_view_name": "StyleView",
            "_model_name": "ProgressStyleModel",
            "description_width": "initial",
            "_view_module": "@jupyter-widgets/base",
            "_model_module_version": "1.5.0",
            "_view_count": null,
            "_view_module_version": "1.2.0",
            "bar_color": null,
            "_model_module": "@jupyter-widgets/controls"
          }
        },
        "421b9c8b56034fa08e920028b9200a69": {
          "model_module": "@jupyter-widgets/base",
          "model_name": "LayoutModel",
          "state": {
            "_view_name": "LayoutView",
            "grid_template_rows": null,
            "right": null,
            "justify_content": null,
            "_view_module": "@jupyter-widgets/base",
            "overflow": null,
            "_model_module_version": "1.2.0",
            "_view_count": null,
            "flex_flow": null,
            "width": null,
            "min_width": null,
            "border": null,
            "align_items": null,
            "bottom": null,
            "_model_module": "@jupyter-widgets/base",
            "top": null,
            "grid_column": null,
            "overflow_y": null,
            "overflow_x": null,
            "grid_auto_flow": null,
            "grid_area": null,
            "grid_template_columns": null,
            "flex": "2",
            "_model_name": "LayoutModel",
            "justify_items": null,
            "grid_row": null,
            "max_height": null,
            "align_content": null,
            "visibility": null,
            "align_self": null,
            "height": null,
            "min_height": null,
            "padding": null,
            "grid_auto_rows": null,
            "grid_gap": null,
            "max_width": null,
            "order": null,
            "_view_module_version": "1.2.0",
            "grid_template_areas": null,
            "object_position": null,
            "object_fit": null,
            "grid_auto_columns": null,
            "margin": null,
            "display": null,
            "left": null
          }
        },
        "be61ae48d1be47f687bd75523453a500": {
          "model_module": "@jupyter-widgets/controls",
          "model_name": "DescriptionStyleModel",
          "state": {
            "_view_name": "StyleView",
            "_model_name": "DescriptionStyleModel",
            "description_width": "",
            "_view_module": "@jupyter-widgets/base",
            "_model_module_version": "1.5.0",
            "_view_count": null,
            "_view_module_version": "1.2.0",
            "_model_module": "@jupyter-widgets/controls"
          }
        },
        "6861cf007cfd4936b27e24e8548b6bcf": {
          "model_module": "@jupyter-widgets/base",
          "model_name": "LayoutModel",
          "state": {
            "_view_name": "LayoutView",
            "grid_template_rows": null,
            "right": null,
            "justify_content": null,
            "_view_module": "@jupyter-widgets/base",
            "overflow": null,
            "_model_module_version": "1.2.0",
            "_view_count": null,
            "flex_flow": null,
            "width": null,
            "min_width": null,
            "border": null,
            "align_items": null,
            "bottom": null,
            "_model_module": "@jupyter-widgets/base",
            "top": null,
            "grid_column": null,
            "overflow_y": null,
            "overflow_x": null,
            "grid_auto_flow": null,
            "grid_area": null,
            "grid_template_columns": null,
            "flex": null,
            "_model_name": "LayoutModel",
            "justify_items": null,
            "grid_row": null,
            "max_height": null,
            "align_content": null,
            "visibility": null,
            "align_self": null,
            "height": null,
            "min_height": null,
            "padding": null,
            "grid_auto_rows": null,
            "grid_gap": null,
            "max_width": null,
            "order": null,
            "_view_module_version": "1.2.0",
            "grid_template_areas": null,
            "object_position": null,
            "object_fit": null,
            "grid_auto_columns": null,
            "margin": null,
            "display": null,
            "left": null
          }
        },
        "9a1e35f514e54a4596dff1a4924d27b5": {
          "model_module": "@jupyter-widgets/controls",
          "model_name": "HBoxModel",
          "state": {
            "_view_name": "HBoxView",
            "_dom_classes": [],
            "_model_name": "HBoxModel",
            "_view_module": "@jupyter-widgets/controls",
            "_model_module_version": "1.5.0",
            "_view_count": null,
            "_view_module_version": "1.5.0",
            "box_style": "",
            "layout": "IPY_MODEL_dbc5bfec8f6544019ce7c78c2dc3ac45",
            "_model_module": "@jupyter-widgets/controls",
            "children": [
              "IPY_MODEL_d805cd8bbc97423b9bab3490e3faa552",
              "IPY_MODEL_0371c142afad4bcd940b661f29263df2"
            ]
          }
        },
        "dbc5bfec8f6544019ce7c78c2dc3ac45": {
          "model_module": "@jupyter-widgets/base",
          "model_name": "LayoutModel",
          "state": {
            "_view_name": "LayoutView",
            "grid_template_rows": null,
            "right": null,
            "justify_content": null,
            "_view_module": "@jupyter-widgets/base",
            "overflow": null,
            "_model_module_version": "1.2.0",
            "_view_count": null,
            "flex_flow": "row wrap",
            "width": "100%",
            "min_width": null,
            "border": null,
            "align_items": null,
            "bottom": null,
            "_model_module": "@jupyter-widgets/base",
            "top": null,
            "grid_column": null,
            "overflow_y": null,
            "overflow_x": null,
            "grid_auto_flow": null,
            "grid_area": null,
            "grid_template_columns": null,
            "flex": null,
            "_model_name": "LayoutModel",
            "justify_items": null,
            "grid_row": null,
            "max_height": null,
            "align_content": null,
            "visibility": null,
            "align_self": null,
            "height": null,
            "min_height": null,
            "padding": null,
            "grid_auto_rows": null,
            "grid_gap": null,
            "max_width": null,
            "order": null,
            "_view_module_version": "1.2.0",
            "grid_template_areas": null,
            "object_position": null,
            "object_fit": null,
            "grid_auto_columns": null,
            "margin": null,
            "display": "inline-flex",
            "left": null
          }
        },
        "d805cd8bbc97423b9bab3490e3faa552": {
          "model_module": "@jupyter-widgets/controls",
          "model_name": "FloatProgressModel",
          "state": {
            "_view_name": "ProgressView",
            "style": "IPY_MODEL_823ad5bbd1fa4c9194ea987fb65c1af2",
            "_dom_classes": [],
            "description": "Validating: 100%",
            "_model_name": "FloatProgressModel",
            "bar_style": "info",
            "max": 1,
            "_view_module": "@jupyter-widgets/controls",
            "_model_module_version": "1.5.0",
            "value": 1,
            "_view_count": null,
            "_view_module_version": "1.5.0",
            "orientation": "horizontal",
            "min": 0,
            "description_tooltip": null,
            "_model_module": "@jupyter-widgets/controls",
            "layout": "IPY_MODEL_746382497eb34a37903491d7ed504d12"
          }
        },
        "0371c142afad4bcd940b661f29263df2": {
          "model_module": "@jupyter-widgets/controls",
          "model_name": "HTMLModel",
          "state": {
            "_view_name": "HTMLView",
            "style": "IPY_MODEL_a7d3895d8cd847f1993b540fc4846b49",
            "_dom_classes": [],
            "description": "",
            "_model_name": "HTMLModel",
            "placeholder": "​",
            "_view_module": "@jupyter-widgets/controls",
            "_model_module_version": "1.5.0",
            "value": " 3/3 [00:10&lt;00:00,  3.96s/it]",
            "_view_count": null,
            "_view_module_version": "1.5.0",
            "description_tooltip": null,
            "_model_module": "@jupyter-widgets/controls",
            "layout": "IPY_MODEL_9741bdc15d7647329e0e0413fe0f9845"
          }
        },
        "823ad5bbd1fa4c9194ea987fb65c1af2": {
          "model_module": "@jupyter-widgets/controls",
          "model_name": "ProgressStyleModel",
          "state": {
            "_view_name": "StyleView",
            "_model_name": "ProgressStyleModel",
            "description_width": "initial",
            "_view_module": "@jupyter-widgets/base",
            "_model_module_version": "1.5.0",
            "_view_count": null,
            "_view_module_version": "1.2.0",
            "bar_color": null,
            "_model_module": "@jupyter-widgets/controls"
          }
        },
        "746382497eb34a37903491d7ed504d12": {
          "model_module": "@jupyter-widgets/base",
          "model_name": "LayoutModel",
          "state": {
            "_view_name": "LayoutView",
            "grid_template_rows": null,
            "right": null,
            "justify_content": null,
            "_view_module": "@jupyter-widgets/base",
            "overflow": null,
            "_model_module_version": "1.2.0",
            "_view_count": null,
            "flex_flow": null,
            "width": null,
            "min_width": null,
            "border": null,
            "align_items": null,
            "bottom": null,
            "_model_module": "@jupyter-widgets/base",
            "top": null,
            "grid_column": null,
            "overflow_y": null,
            "overflow_x": null,
            "grid_auto_flow": null,
            "grid_area": null,
            "grid_template_columns": null,
            "flex": "2",
            "_model_name": "LayoutModel",
            "justify_items": null,
            "grid_row": null,
            "max_height": null,
            "align_content": null,
            "visibility": null,
            "align_self": null,
            "height": null,
            "min_height": null,
            "padding": null,
            "grid_auto_rows": null,
            "grid_gap": null,
            "max_width": null,
            "order": null,
            "_view_module_version": "1.2.0",
            "grid_template_areas": null,
            "object_position": null,
            "object_fit": null,
            "grid_auto_columns": null,
            "margin": null,
            "display": null,
            "left": null
          }
        },
        "a7d3895d8cd847f1993b540fc4846b49": {
          "model_module": "@jupyter-widgets/controls",
          "model_name": "DescriptionStyleModel",
          "state": {
            "_view_name": "StyleView",
            "_model_name": "DescriptionStyleModel",
            "description_width": "",
            "_view_module": "@jupyter-widgets/base",
            "_model_module_version": "1.5.0",
            "_view_count": null,
            "_view_module_version": "1.2.0",
            "_model_module": "@jupyter-widgets/controls"
          }
        },
        "9741bdc15d7647329e0e0413fe0f9845": {
          "model_module": "@jupyter-widgets/base",
          "model_name": "LayoutModel",
          "state": {
            "_view_name": "LayoutView",
            "grid_template_rows": null,
            "right": null,
            "justify_content": null,
            "_view_module": "@jupyter-widgets/base",
            "overflow": null,
            "_model_module_version": "1.2.0",
            "_view_count": null,
            "flex_flow": null,
            "width": null,
            "min_width": null,
            "border": null,
            "align_items": null,
            "bottom": null,
            "_model_module": "@jupyter-widgets/base",
            "top": null,
            "grid_column": null,
            "overflow_y": null,
            "overflow_x": null,
            "grid_auto_flow": null,
            "grid_area": null,
            "grid_template_columns": null,
            "flex": null,
            "_model_name": "LayoutModel",
            "justify_items": null,
            "grid_row": null,
            "max_height": null,
            "align_content": null,
            "visibility": null,
            "align_self": null,
            "height": null,
            "min_height": null,
            "padding": null,
            "grid_auto_rows": null,
            "grid_gap": null,
            "max_width": null,
            "order": null,
            "_view_module_version": "1.2.0",
            "grid_template_areas": null,
            "object_position": null,
            "object_fit": null,
            "grid_auto_columns": null,
            "margin": null,
            "display": null,
            "left": null
          }
        }
      }
    }
  },
  "cells": [
    {
      "cell_type": "markdown",
      "metadata": {
        "id": "view-in-github",
        "colab_type": "text"
      },
      "source": [
        "<a href=\"https://colab.research.google.com/github/nicolas-chaulet/torch-points3d/blob/master/notebooks/PartSegmentationKPConv.ipynb\" target=\"_parent\"><img src=\"https://colab.research.google.com/assets/colab-badge.svg\" alt=\"Open In Colab\"/></a>"
      ]
    },
    {
      "cell_type": "code",
      "metadata": {
        "id": "sMPGNDv1vDn0",
        "colab_type": "code",
        "colab": {}
      },
      "source": [
        "# Setup packages\n",
        "!pip install torch==1.3.1 pyvista torchvision==0.4.2 pytorch-lightning\n",
        "!pip install --upgrade jsonschema\n",
        "!pip install torch-points3d\n",
        "!apt-get install -qq xvfb libgl1-mesa-glx"
      ],
      "execution_count": 0,
      "outputs": []
    },
    {
      "cell_type": "code",
      "metadata": {
        "id": "g5NY9XWJynK2",
        "colab_type": "code",
        "colab": {
          "base_uri": "https://localhost:8080/",
          "height": 1000
        },
        "outputId": "22c2c519-e9bd-43a4-dc2a-98e6a66458a9"
      },
      "source": [
        "!pip uninstall torch-points3d -y\n",
        "!pip install git+git://github.com/nicolas-chaulet/torch-points3d@bug/transforms"
      ],
      "execution_count": 6,
      "outputs": [
        {
          "output_type": "stream",
          "text": [
            "Uninstalling torch-points3d-0.2.1:\n",
            "  Would remove:\n",
            "    /usr/local/lib/python3.6/dist-packages/torch_points3d-0.2.1.dist-info/*\n",
            "    /usr/local/lib/python3.6/dist-packages/torch_points3d/*\n",
            "Proceed (y/n)? y\n",
            "  Successfully uninstalled torch-points3d-0.2.1\n",
            "Collecting git+git://github.com/nicolas-chaulet/torch-points3d@bug/transforms\n",
            "  Cloning git://github.com/nicolas-chaulet/torch-points3d (to revision bug/transforms) to /tmp/pip-req-build-uepv7zgr\n",
            "  Running command git clone -q git://github.com/nicolas-chaulet/torch-points3d /tmp/pip-req-build-uepv7zgr\n",
            "  Running command git checkout -b bug/transforms --track origin/bug/transforms\n",
            "  Switched to a new branch 'bug/transforms'\n",
            "  Branch 'bug/transforms' set up to track remote branch 'bug/transforms' from 'origin'.\n",
            "  Installing build dependencies ... \u001b[?25l\u001b[?25hdone\n",
            "  Getting requirements to build wheel ... \u001b[?25l\u001b[?25hdone\n",
            "    Preparing wheel metadata ... \u001b[?25l\u001b[?25hdone\n",
            "Requirement already satisfied: hydra-core<0.12.0,>=0.11.2 in /usr/local/lib/python3.6/dist-packages (from torch-points3d==0.1.0) (0.11.3)\n",
            "Requirement already satisfied: torch-geometric==1.3.2 in /usr/local/lib/python3.6/dist-packages (from torch-points3d==0.1.0) (1.3.2)\n",
            "Requirement already satisfied: torch-points-kernels<0.7.0,>=0.6.0 in /usr/local/lib/python3.6/dist-packages (from torch-points3d==0.1.0) (0.6.1)\n",
            "Requirement already satisfied: scikit-image<0.17.0,>=0.16.2 in /usr/local/lib/python3.6/dist-packages (from torch-points3d==0.1.0) (0.16.2)\n",
            "Requirement already satisfied: torch-sparse==0.4.3 in /usr/local/lib/python3.6/dist-packages (from torch-points3d==0.1.0) (0.4.3)\n",
            "Requirement already satisfied: torch-scatter==1.4.0 in /usr/local/lib/python3.6/dist-packages (from torch-points3d==0.1.0) (1.4.0)\n",
            "Requirement already satisfied: tqdm<5.0,>=4.40 in /usr/local/lib/python3.6/dist-packages (from torch-points3d==0.1.0) (4.41.1)\n",
            "Requirement already satisfied: matplotlib<4.0,>=3.1 in /usr/local/lib/python3.6/dist-packages (from torch-points3d==0.1.0) (3.2.1)\n",
            "Requirement already satisfied: tensorboard<3.0,>=2.1 in /usr/local/lib/python3.6/dist-packages (from torch-points3d==0.1.0) (2.2.1)\n",
            "Requirement already satisfied: numba<0.50.0,>=0.49.0 in /usr/local/lib/python3.6/dist-packages (from torch-points3d==0.1.0) (0.49.1)\n",
            "Requirement already satisfied: pytorch_metric_learning<0.10.0,>=0.9.75 in /usr/local/lib/python3.6/dist-packages (from torch-points3d==0.1.0) (0.9.85)\n",
            "Requirement already satisfied: torch==1.3.1 in /usr/local/lib/python3.6/dist-packages (from torch-points3d==0.1.0) (1.3.1)\n",
            "Requirement already satisfied: wandb<0.9.0,>=0.8.18 in /usr/local/lib/python3.6/dist-packages (from torch-points3d==0.1.0) (0.8.36)\n",
            "Requirement already satisfied: torchnet<0.0.5,>=0.0.4 in /usr/local/lib/python3.6/dist-packages (from torch-points3d==0.1.0) (0.0.4)\n",
            "Requirement already satisfied: torch-cluster==1.4.5 in /usr/local/lib/python3.6/dist-packages (from torch-points3d==0.1.0) (1.4.5)\n",
            "Requirement already satisfied: numpy<2.0.0,>=1.18.2 in /usr/local/lib/python3.6/dist-packages (from torch-points3d==0.1.0) (1.18.4)\n",
            "Requirement already satisfied: omegaconf<1.5,>=1.4 in /usr/local/lib/python3.6/dist-packages (from hydra-core<0.12.0,>=0.11.2->torch-points3d==0.1.0) (1.4.1)\n",
            "Requirement already satisfied: googledrivedownloader in /usr/local/lib/python3.6/dist-packages (from torch-geometric==1.3.2->torch-points3d==0.1.0) (0.4)\n",
            "Requirement already satisfied: requests in /usr/local/lib/python3.6/dist-packages (from torch-geometric==1.3.2->torch-points3d==0.1.0) (2.23.0)\n",
            "Requirement already satisfied: networkx in /usr/local/lib/python3.6/dist-packages (from torch-geometric==1.3.2->torch-points3d==0.1.0) (2.4)\n",
            "Requirement already satisfied: scikit-learn in /usr/local/lib/python3.6/dist-packages (from torch-geometric==1.3.2->torch-points3d==0.1.0) (0.22.2.post1)\n",
            "Requirement already satisfied: plyfile in /usr/local/lib/python3.6/dist-packages (from torch-geometric==1.3.2->torch-points3d==0.1.0) (0.7.2)\n",
            "Requirement already satisfied: rdflib in /usr/local/lib/python3.6/dist-packages (from torch-geometric==1.3.2->torch-points3d==0.1.0) (5.0.0)\n",
            "Requirement already satisfied: scipy in /usr/local/lib/python3.6/dist-packages (from torch-geometric==1.3.2->torch-points3d==0.1.0) (1.4.1)\n",
            "Requirement already satisfied: pandas in /usr/local/lib/python3.6/dist-packages (from torch-geometric==1.3.2->torch-points3d==0.1.0) (1.0.3)\n",
            "Requirement already satisfied: h5py in /usr/local/lib/python3.6/dist-packages (from torch-geometric==1.3.2->torch-points3d==0.1.0) (2.10.0)\n",
            "Requirement already satisfied: PyWavelets>=0.4.0 in /usr/local/lib/python3.6/dist-packages (from scikit-image<0.17.0,>=0.16.2->torch-points3d==0.1.0) (1.1.1)\n",
            "Requirement already satisfied: imageio>=2.3.0 in /usr/local/lib/python3.6/dist-packages (from scikit-image<0.17.0,>=0.16.2->torch-points3d==0.1.0) (2.4.1)\n",
            "Requirement already satisfied: pillow>=4.3.0 in /usr/local/lib/python3.6/dist-packages (from scikit-image<0.17.0,>=0.16.2->torch-points3d==0.1.0) (7.0.0)\n",
            "Requirement already satisfied: cycler>=0.10 in /usr/local/lib/python3.6/dist-packages (from matplotlib<4.0,>=3.1->torch-points3d==0.1.0) (0.10.0)\n",
            "Requirement already satisfied: python-dateutil>=2.1 in /usr/local/lib/python3.6/dist-packages (from matplotlib<4.0,>=3.1->torch-points3d==0.1.0) (2.8.1)\n",
            "Requirement already satisfied: kiwisolver>=1.0.1 in /usr/local/lib/python3.6/dist-packages (from matplotlib<4.0,>=3.1->torch-points3d==0.1.0) (1.2.0)\n",
            "Requirement already satisfied: pyparsing!=2.0.4,!=2.1.2,!=2.1.6,>=2.0.1 in /usr/local/lib/python3.6/dist-packages (from matplotlib<4.0,>=3.1->torch-points3d==0.1.0) (2.4.7)\n",
            "Requirement already satisfied: werkzeug>=0.11.15 in /usr/local/lib/python3.6/dist-packages (from tensorboard<3.0,>=2.1->torch-points3d==0.1.0) (1.0.1)\n",
            "Requirement already satisfied: google-auth<2,>=1.6.3 in /usr/local/lib/python3.6/dist-packages (from tensorboard<3.0,>=2.1->torch-points3d==0.1.0) (1.7.2)\n",
            "Requirement already satisfied: wheel>=0.26; python_version >= \"3\" in /usr/local/lib/python3.6/dist-packages (from tensorboard<3.0,>=2.1->torch-points3d==0.1.0) (0.34.2)\n",
            "Requirement already satisfied: google-auth-oauthlib<0.5,>=0.4.1 in /usr/local/lib/python3.6/dist-packages (from tensorboard<3.0,>=2.1->torch-points3d==0.1.0) (0.4.1)\n",
            "Requirement already satisfied: tensorboard-plugin-wit>=1.6.0 in /usr/local/lib/python3.6/dist-packages (from tensorboard<3.0,>=2.1->torch-points3d==0.1.0) (1.6.0.post3)\n",
            "Requirement already satisfied: absl-py>=0.4 in /usr/local/lib/python3.6/dist-packages (from tensorboard<3.0,>=2.1->torch-points3d==0.1.0) (0.9.0)\n",
            "Requirement already satisfied: setuptools>=41.0.0 in /usr/local/lib/python3.6/dist-packages (from tensorboard<3.0,>=2.1->torch-points3d==0.1.0) (46.1.3)\n",
            "Requirement already satisfied: markdown>=2.6.8 in /usr/local/lib/python3.6/dist-packages (from tensorboard<3.0,>=2.1->torch-points3d==0.1.0) (3.2.1)\n",
            "Requirement already satisfied: six>=1.10.0 in /usr/local/lib/python3.6/dist-packages (from tensorboard<3.0,>=2.1->torch-points3d==0.1.0) (1.12.0)\n",
            "Requirement already satisfied: grpcio>=1.24.3 in /usr/local/lib/python3.6/dist-packages (from tensorboard<3.0,>=2.1->torch-points3d==0.1.0) (1.28.1)\n",
            "Requirement already satisfied: protobuf>=3.6.0 in /usr/local/lib/python3.6/dist-packages (from tensorboard<3.0,>=2.1->torch-points3d==0.1.0) (3.10.0)\n",
            "Requirement already satisfied: llvmlite<=0.33.0.dev0,>=0.31.0.dev0 in /usr/local/lib/python3.6/dist-packages (from numba<0.50.0,>=0.49.0->torch-points3d==0.1.0) (0.31.0)\n",
            "Requirement already satisfied: torchvision in /usr/local/lib/python3.6/dist-packages (from pytorch_metric_learning<0.10.0,>=0.9.75->torch-points3d==0.1.0) (0.4.2)\n",
            "Requirement already satisfied: gql==0.2.0 in /usr/local/lib/python3.6/dist-packages (from wandb<0.9.0,>=0.8.18->torch-points3d==0.1.0) (0.2.0)\n",
            "Requirement already satisfied: watchdog>=0.8.3 in /usr/local/lib/python3.6/dist-packages (from wandb<0.9.0,>=0.8.18->torch-points3d==0.1.0) (0.10.2)\n",
            "Requirement already satisfied: Click>=7.0 in /usr/local/lib/python3.6/dist-packages (from wandb<0.9.0,>=0.8.18->torch-points3d==0.1.0) (7.1.2)\n",
            "Requirement already satisfied: GitPython>=1.0.0 in /usr/local/lib/python3.6/dist-packages (from wandb<0.9.0,>=0.8.18->torch-points3d==0.1.0) (3.1.2)\n",
            "Requirement already satisfied: shortuuid>=0.5.0 in /usr/local/lib/python3.6/dist-packages (from wandb<0.9.0,>=0.8.18->torch-points3d==0.1.0) (1.0.1)\n",
            "Requirement already satisfied: configparser>=3.8.1 in /usr/local/lib/python3.6/dist-packages (from wandb<0.9.0,>=0.8.18->torch-points3d==0.1.0) (5.0.0)\n",
            "Requirement already satisfied: subprocess32>=3.5.3 in /usr/local/lib/python3.6/dist-packages (from wandb<0.9.0,>=0.8.18->torch-points3d==0.1.0) (3.5.4)\n",
            "Requirement already satisfied: docker-pycreds>=0.4.0 in /usr/local/lib/python3.6/dist-packages (from wandb<0.9.0,>=0.8.18->torch-points3d==0.1.0) (0.4.0)\n",
            "Requirement already satisfied: PyYAML>=3.10 in /usr/local/lib/python3.6/dist-packages (from wandb<0.9.0,>=0.8.18->torch-points3d==0.1.0) (3.13)\n",
            "Requirement already satisfied: psutil>=5.0.0 in /usr/local/lib/python3.6/dist-packages (from wandb<0.9.0,>=0.8.18->torch-points3d==0.1.0) (5.4.8)\n",
            "Requirement already satisfied: nvidia-ml-py3>=7.352.0 in /usr/local/lib/python3.6/dist-packages (from wandb<0.9.0,>=0.8.18->torch-points3d==0.1.0) (7.352.0)\n",
            "Requirement already satisfied: sentry-sdk>=0.4.0 in /usr/local/lib/python3.6/dist-packages (from wandb<0.9.0,>=0.8.18->torch-points3d==0.1.0) (0.14.4)\n",
            "Requirement already satisfied: visdom in /usr/local/lib/python3.6/dist-packages (from torchnet<0.0.5,>=0.0.4->torch-points3d==0.1.0) (0.1.8.9)\n",
            "Requirement already satisfied: certifi>=2017.4.17 in /usr/local/lib/python3.6/dist-packages (from requests->torch-geometric==1.3.2->torch-points3d==0.1.0) (2020.4.5.1)\n",
            "Requirement already satisfied: chardet<4,>=3.0.2 in /usr/local/lib/python3.6/dist-packages (from requests->torch-geometric==1.3.2->torch-points3d==0.1.0) (3.0.4)\n",
            "Requirement already satisfied: urllib3!=1.25.0,!=1.25.1,<1.26,>=1.21.1 in /usr/local/lib/python3.6/dist-packages (from requests->torch-geometric==1.3.2->torch-points3d==0.1.0) (1.24.3)\n",
            "Requirement already satisfied: idna<3,>=2.5 in /usr/local/lib/python3.6/dist-packages (from requests->torch-geometric==1.3.2->torch-points3d==0.1.0) (2.9)\n",
            "Requirement already satisfied: decorator>=4.3.0 in /usr/local/lib/python3.6/dist-packages (from networkx->torch-geometric==1.3.2->torch-points3d==0.1.0) (4.4.2)\n",
            "Requirement already satisfied: joblib>=0.11 in /usr/local/lib/python3.6/dist-packages (from scikit-learn->torch-geometric==1.3.2->torch-points3d==0.1.0) (0.14.1)\n",
            "Requirement already satisfied: isodate in /usr/local/lib/python3.6/dist-packages (from rdflib->torch-geometric==1.3.2->torch-points3d==0.1.0) (0.6.0)\n",
            "Requirement already satisfied: pytz>=2017.2 in /usr/local/lib/python3.6/dist-packages (from pandas->torch-geometric==1.3.2->torch-points3d==0.1.0) (2018.9)\n",
            "Requirement already satisfied: rsa<4.1,>=3.1.4 in /usr/local/lib/python3.6/dist-packages (from google-auth<2,>=1.6.3->tensorboard<3.0,>=2.1->torch-points3d==0.1.0) (4.0)\n",
            "Requirement already satisfied: pyasn1-modules>=0.2.1 in /usr/local/lib/python3.6/dist-packages (from google-auth<2,>=1.6.3->tensorboard<3.0,>=2.1->torch-points3d==0.1.0) (0.2.8)\n",
            "Requirement already satisfied: cachetools<3.2,>=2.0.0 in /usr/local/lib/python3.6/dist-packages (from google-auth<2,>=1.6.3->tensorboard<3.0,>=2.1->torch-points3d==0.1.0) (3.1.1)\n",
            "Requirement already satisfied: requests-oauthlib>=0.7.0 in /usr/local/lib/python3.6/dist-packages (from google-auth-oauthlib<0.5,>=0.4.1->tensorboard<3.0,>=2.1->torch-points3d==0.1.0) (1.3.0)\n",
            "Requirement already satisfied: promise<3,>=2.0 in /usr/local/lib/python3.6/dist-packages (from gql==0.2.0->wandb<0.9.0,>=0.8.18->torch-points3d==0.1.0) (2.3)\n",
            "Requirement already satisfied: graphql-core<2,>=0.5.0 in /usr/local/lib/python3.6/dist-packages (from gql==0.2.0->wandb<0.9.0,>=0.8.18->torch-points3d==0.1.0) (1.1)\n",
            "Requirement already satisfied: pathtools>=0.1.1 in /usr/local/lib/python3.6/dist-packages (from watchdog>=0.8.3->wandb<0.9.0,>=0.8.18->torch-points3d==0.1.0) (0.1.2)\n",
            "Requirement already satisfied: gitdb<5,>=4.0.1 in /usr/local/lib/python3.6/dist-packages (from GitPython>=1.0.0->wandb<0.9.0,>=0.8.18->torch-points3d==0.1.0) (4.0.5)\n",
            "Requirement already satisfied: websocket-client in /usr/local/lib/python3.6/dist-packages (from visdom->torchnet<0.0.5,>=0.0.4->torch-points3d==0.1.0) (0.57.0)\n",
            "Requirement already satisfied: pyzmq in /usr/local/lib/python3.6/dist-packages (from visdom->torchnet<0.0.5,>=0.0.4->torch-points3d==0.1.0) (19.0.1)\n",
            "Requirement already satisfied: torchfile in /usr/local/lib/python3.6/dist-packages (from visdom->torchnet<0.0.5,>=0.0.4->torch-points3d==0.1.0) (0.1.0)\n",
            "Requirement already satisfied: jsonpatch in /usr/local/lib/python3.6/dist-packages (from visdom->torchnet<0.0.5,>=0.0.4->torch-points3d==0.1.0) (1.25)\n",
            "Requirement already satisfied: tornado in /usr/local/lib/python3.6/dist-packages (from visdom->torchnet<0.0.5,>=0.0.4->torch-points3d==0.1.0) (4.5.3)\n",
            "Requirement already satisfied: pyasn1>=0.1.3 in /usr/local/lib/python3.6/dist-packages (from rsa<4.1,>=3.1.4->google-auth<2,>=1.6.3->tensorboard<3.0,>=2.1->torch-points3d==0.1.0) (0.4.8)\n",
            "Requirement already satisfied: oauthlib>=3.0.0 in /usr/local/lib/python3.6/dist-packages (from requests-oauthlib>=0.7.0->google-auth-oauthlib<0.5,>=0.4.1->tensorboard<3.0,>=2.1->torch-points3d==0.1.0) (3.1.0)\n",
            "Requirement already satisfied: smmap<4,>=3.0.1 in /usr/local/lib/python3.6/dist-packages (from gitdb<5,>=4.0.1->GitPython>=1.0.0->wandb<0.9.0,>=0.8.18->torch-points3d==0.1.0) (3.0.4)\n",
            "Requirement already satisfied: jsonpointer>=1.9 in /usr/local/lib/python3.6/dist-packages (from jsonpatch->visdom->torchnet<0.0.5,>=0.0.4->torch-points3d==0.1.0) (2.0)\n",
            "Building wheels for collected packages: torch-points3d\n",
            "  Building wheel for torch-points3d (PEP 517) ... \u001b[?25l\u001b[?25hdone\n",
            "  Created wheel for torch-points3d: filename=torch_points3d-0.1.0-cp36-none-any.whl size=226032 sha256=74204bf9990d5cf88c8106cddd543494094abbae689c3c422620ad654d555267\n",
            "  Stored in directory: /tmp/pip-ephem-wheel-cache-8f2ayfkl/wheels/81/38/ec/212d588d236385986b3d61cdacb2ef78e712240ffaf39ecec3\n",
            "Successfully built torch-points3d\n",
            "Installing collected packages: torch-points3d\n",
            "Successfully installed torch-points3d-0.1.0\n"
          ],
          "name": "stdout"
        }
      ]
    },
    {
      "cell_type": "code",
      "metadata": {
        "id": "7_9hcYlFvOv6",
        "colab_type": "code",
        "outputId": "ce8302f1-41db-4d2e-e1f1-1a4e466345ca",
        "colab": {
          "base_uri": "https://localhost:8080/",
          "height": 34
        }
      },
      "source": [
        "# Needed for remote rendering \n",
        "import os\n",
        "os.environ[\"DISPLAY\"] = \":1.0\"\n",
        "os.environ[\"PYVISTA_OFF_SCREEN\"]=\"true\"\n",
        "os.environ[\"PYVISTA_PLOT_THEME\"]=\"true\"\n",
        "os.environ[\"PYVISTA_USE_PANEL\"]=\"true\"\n",
        "os.environ[\"PYVISTA_AUTO_CLOSE\"]=\"false\"\n",
        "os.system(\"Xvfb :1 -screen 0 1024x768x24 > /dev/null 2>&1 &\")"
      ],
      "execution_count": 2,
      "outputs": [
        {
          "output_type": "execute_result",
          "data": {
            "text/plain": [
              "0"
            ]
          },
          "metadata": {
            "tags": []
          },
          "execution_count": 2
        }
      ]
    },
    {
      "cell_type": "code",
      "metadata": {
        "id": "HGza3XTYvQNC",
        "colab_type": "code",
        "colab": {}
      },
      "source": [
        "import os\n",
        "import sys\n",
        "from omegaconf import OmegaConf\n",
        "import pyvista as pv\n",
        "import torch\n",
        "import numpy as np"
      ],
      "execution_count": 0,
      "outputs": []
    },
    {
      "cell_type": "code",
      "metadata": {
        "id": "Q44YjGjrvg2j",
        "colab_type": "code",
        "colab": {}
      },
      "source": [
        "DIR = \"\" # Replace with your root directory, the data will go in DIR/data."
      ],
      "execution_count": 0,
      "outputs": []
    },
    {
      "cell_type": "markdown",
      "metadata": {
        "id": "izN8KU_tv5JR",
        "colab_type": "text"
      },
      "source": [
        "<p align=\"center\">\n",
        "  <img width=\"40%\" src=\"https://raw.githubusercontent.com/nicolas-chaulet/torch-points3d/master/docs/logo.png\" />\n",
        "</p>"
      ]
    },
    {
      "cell_type": "markdown",
      "metadata": {
        "id": "Mgox3ksbv-s1",
        "colab_type": "text"
      },
      "source": [
        "# Segmenting objects in part with KPConv\n",
        "In this notebook we will solve the task of segmenting an object into its sub parts by using a [KPConv](https://arxiv.org/abs/1904.08889) deep neural network.\n",
        "We will work on [ShapeNet](https://www.shapenet.org/) dataset which contains 48,600 3D models over 55 common categories with part annotations. We will show you how you can use Torch Points3D to setup a KPConv backbone with a multi head classifier and train it on ShapeNet. We will in particular cover the CPU pre processing of the data that allows a complex KPConv to perform well."
      ]
    },
    {
      "cell_type": "markdown",
      "metadata": {
        "id": "wyFtUQhGybFc",
        "colab_type": "text"
      },
      "source": [
        "## The dataset\n",
        "We use Torch Points3D version of ShapeNet that provides automatic download (be patient, it takes some time...) of the data, a tested metric tracker as well as methods for pre computing the spatial operations such as neighbour search and grid sampling on CPU.\n",
        "\n",
        "Let's start with the data config (if you want more details about that part of Torch Points3D please refer to this notebook)."
      ]
    },
    {
      "cell_type": "code",
      "metadata": {
        "id": "PBRS6vxSvjRo",
        "colab_type": "code",
        "colab": {}
      },
      "source": [
        "shapenet_yaml = \"\"\"\n",
        "class: shapenet.ShapeNetDataset\n",
        "task: segmentation\n",
        "dataroot: %s\n",
        "normal: True                                  # Use normal vectors as features\n",
        "category: Bag\n",
        "first_subsampling: 0.02                       # Grid size of the input data\n",
        "pre_transforms:                               # Offline transforms, done only once\n",
        "    - transform: NormalizeScale           \n",
        "    - transform: GridSampling\n",
        "      params:\n",
        "        size: ${first_subsampling}\n",
        "train_transforms:                             # Data augmentation pipeline\n",
        "    - transform: RandomNoise\n",
        "      params:\n",
        "        sigma: 0.01\n",
        "        clip: 0.05\n",
        "    - transform: RandomScaleAnisotropic\n",
        "      params:\n",
        "        scales: [0.9,1.1]\n",
        "    - transform: AddOnes\n",
        "    - transform: AddFeatsByKeys\n",
        "      params:\n",
        "        list_add_to_x: [True]\n",
        "        feat_names: [\"ones\"]\n",
        "        delete_feats: [True]\n",
        "test_transforms:\n",
        "    - transform: AddOnes\n",
        "    - transform: AddFeatsByKeys\n",
        "      params:\n",
        "        list_add_to_x: [True]\n",
        "        feat_names: [\"ones\"]\n",
        "        delete_feats: [True]\n",
        "\"\"\" % (os.path.join(DIR,\"data\"))\n",
        "\n",
        "from omegaconf import OmegaConf\n",
        "params = OmegaConf.create(shapenet_yaml)"
      ],
      "execution_count": 0,
      "outputs": []
    },
    {
      "cell_type": "code",
      "metadata": {
        "id": "eQFRmfUYzXX1",
        "colab_type": "code",
        "outputId": "e8c6fe53-29e6-4d7f-dfa3-38718bd90f92",
        "colab": {
          "base_uri": "https://localhost:8080/",
          "height": 469
        }
      },
      "source": [
        "from torch_points3d.datasets.segmentation import ShapeNetDataset\n",
        "dataset = ShapeNetDataset(params)\n",
        "dataset"
      ],
      "execution_count": 6,
      "outputs": [
        {
          "output_type": "execute_result",
          "data": {
            "text/plain": [
              "Dataset: ShapeNetDataset \n",
              "\u001b[0;95mpre_transform \u001b[0m= Compose([\n",
              "    NormalizeScale(),\n",
              "    GridSampling(grid_size=0.02, quantize_coords=False, mode=mean),\n",
              "])\n",
              "\u001b[0;95mtest_transform \u001b[0m= Compose([\n",
              "    AddOnes(),\n",
              "    AddFeatsByKeys(ones=True),\n",
              "])\n",
              "\u001b[0;95mtrain_transform \u001b[0m= Compose([\n",
              "    RandomNoise(sigma=0.01, clip=0.05),\n",
              "    RandomScaleAnisotropic([0.9, 1.1]),\n",
              "    AddOnes(),\n",
              "    AddFeatsByKeys(ones=True),\n",
              "])\n",
              "\u001b[0;95mval_transform \u001b[0m= None\n",
              "\u001b[0;95minference_transform \u001b[0m= Compose([\n",
              "    NormalizeScale(),\n",
              "    GridSampling(grid_size=0.02, quantize_coords=False, mode=mean),\n",
              "    AddOnes(),\n",
              "    AddFeatsByKeys(ones=True),\n",
              "])\n",
              "Size of \u001b[0;95mtrain_dataset \u001b[0m= 62\n",
              "Size of \u001b[0;95mtest_dataset \u001b[0m= 14\n",
              "Size of \u001b[0;95mval_dataset \u001b[0m= 0\n",
              "\u001b[0;95mBatch size =\u001b[0m None"
            ]
          },
          "metadata": {
            "tags": []
          },
          "execution_count": 6
        }
      ]
    },
    {
      "cell_type": "code",
      "metadata": {
        "id": "wAN1JCiU1pFW",
        "colab_type": "code",
        "cellView": "form",
        "colab": {
          "base_uri": "https://localhost:8080/",
          "height": 235
        },
        "outputId": "e11bae5e-9e79-43bb-b7f4-5e5a988da80d"
      },
      "source": [
        "#@title Plot samples with part annotations { run: \"auto\" }\n",
        "objectid_1 = 1 #@param {type:\"integer\"}\n",
        "objectid_2 = 2 #@param {type:\"integer\"}\n",
        "objectid_3 = 3 #@param {type:\"integer\"}\n",
        "\n",
        "samples = [objectid_1,objectid_2,objectid_3]\n",
        "p = pv.Plotter(notebook=True,shape=(1, len(samples)),window_size=[1024,412])\n",
        "for i in range(len(samples)):\n",
        "    p.subplot(0, i)\n",
        "    sample = dataset.train_dataset[samples[i]]\n",
        "    point_cloud = pv.PolyData(sample.pos.numpy())\n",
        "    point_cloud['y'] = sample.y.numpy()\n",
        "    p.add_points(point_cloud,  show_scalar_bar=False, point_size=3)\n",
        "    p.camera_position = [-1,5, -10]\n",
        "p.show()"
      ],
      "execution_count": 1,
      "outputs": [
        {
          "output_type": "error",
          "ename": "NameError",
          "evalue": "ignored",
          "traceback": [
            "\u001b[0;31m---------------------------------------------------------------------------\u001b[0m",
            "\u001b[0;31mNameError\u001b[0m                                 Traceback (most recent call last)",
            "\u001b[0;32m<ipython-input-1-f80d400e5cf2>\u001b[0m in \u001b[0;36m<module>\u001b[0;34m()\u001b[0m\n\u001b[1;32m      5\u001b[0m \u001b[0;34m\u001b[0m\u001b[0m\n\u001b[1;32m      6\u001b[0m \u001b[0msamples\u001b[0m \u001b[0;34m=\u001b[0m \u001b[0;34m[\u001b[0m\u001b[0mobjectid_1\u001b[0m\u001b[0;34m,\u001b[0m\u001b[0mobjectid_2\u001b[0m\u001b[0;34m,\u001b[0m\u001b[0mobjectid_3\u001b[0m\u001b[0;34m]\u001b[0m\u001b[0;34m\u001b[0m\u001b[0;34m\u001b[0m\u001b[0m\n\u001b[0;32m----> 7\u001b[0;31m \u001b[0mp\u001b[0m \u001b[0;34m=\u001b[0m \u001b[0mpv\u001b[0m\u001b[0;34m.\u001b[0m\u001b[0mPlotter\u001b[0m\u001b[0;34m(\u001b[0m\u001b[0mnotebook\u001b[0m\u001b[0;34m=\u001b[0m\u001b[0;32mTrue\u001b[0m\u001b[0;34m,\u001b[0m\u001b[0mshape\u001b[0m\u001b[0;34m=\u001b[0m\u001b[0;34m(\u001b[0m\u001b[0;36m1\u001b[0m\u001b[0;34m,\u001b[0m \u001b[0mlen\u001b[0m\u001b[0;34m(\u001b[0m\u001b[0msamples\u001b[0m\u001b[0;34m)\u001b[0m\u001b[0;34m)\u001b[0m\u001b[0;34m,\u001b[0m\u001b[0mwindow_size\u001b[0m\u001b[0;34m=\u001b[0m\u001b[0;34m[\u001b[0m\u001b[0;36m1024\u001b[0m\u001b[0;34m,\u001b[0m\u001b[0;36m412\u001b[0m\u001b[0;34m]\u001b[0m\u001b[0;34m)\u001b[0m\u001b[0;34m\u001b[0m\u001b[0;34m\u001b[0m\u001b[0m\n\u001b[0m\u001b[1;32m      8\u001b[0m \u001b[0;32mfor\u001b[0m \u001b[0mi\u001b[0m \u001b[0;32min\u001b[0m \u001b[0mrange\u001b[0m\u001b[0;34m(\u001b[0m\u001b[0mlen\u001b[0m\u001b[0;34m(\u001b[0m\u001b[0msamples\u001b[0m\u001b[0;34m)\u001b[0m\u001b[0;34m)\u001b[0m\u001b[0;34m:\u001b[0m\u001b[0;34m\u001b[0m\u001b[0;34m\u001b[0m\u001b[0m\n\u001b[1;32m      9\u001b[0m     \u001b[0mp\u001b[0m\u001b[0;34m.\u001b[0m\u001b[0msubplot\u001b[0m\u001b[0;34m(\u001b[0m\u001b[0;36m0\u001b[0m\u001b[0;34m,\u001b[0m \u001b[0mi\u001b[0m\u001b[0;34m)\u001b[0m\u001b[0;34m\u001b[0m\u001b[0;34m\u001b[0m\u001b[0m\n",
            "\u001b[0;31mNameError\u001b[0m: name 'pv' is not defined"
          ]
        }
      ]
    },
    {
      "cell_type": "markdown",
      "metadata": {
        "id": "sLSGJVf30G1C",
        "colab_type": "text"
      },
      "source": [
        "## Model for part segmentation\n",
        "Let's start by creating a multihead segmentation module with one segmentation head per category. We provide that as part of Torch Points3D but let's reproduce it here for sake of completeness."
      ]
    },
    {
      "cell_type": "code",
      "metadata": {
        "id": "V4k79sQhzryp",
        "colab_type": "code",
        "colab": {}
      },
      "source": [
        "from torch_points3d.core.common_modules import MLP, UnaryConv\n",
        "\n",
        "class MultiHeadClassifier(torch.nn.Module):\n",
        "    \"\"\" Allows segregated segmentation in case the category of an object is known. \n",
        "    This is the case in ShapeNet for example.\n",
        "\n",
        "    Parameters\n",
        "    ----------\n",
        "    in_features -\n",
        "        size of the input channel\n",
        "    cat_to_seg\n",
        "        category to segment maps for example:\n",
        "        {\n",
        "            'Airplane': [0,1,2],\n",
        "            'Table': [3,4]\n",
        "        }\n",
        "\n",
        "    \"\"\"\n",
        "\n",
        "    def __init__(self, in_features, cat_to_seg, dropout_proba=0.5, bn_momentum=0.1):\n",
        "        super().__init__()\n",
        "        self._cat_to_seg = {}\n",
        "        self._num_categories = len(cat_to_seg)\n",
        "        self._max_seg_count = 0\n",
        "        self._max_seg = 0\n",
        "        self._shifts = torch.zeros((self._num_categories,), dtype=torch.long)\n",
        "        for i, seg in enumerate(cat_to_seg.values()):\n",
        "            self._max_seg_count = max(self._max_seg_count, len(seg))\n",
        "            self._max_seg = max(self._max_seg, max(seg))\n",
        "            self._shifts[i] = min(seg)\n",
        "            self._cat_to_seg[i] = seg\n",
        "\n",
        "        self.channel_rasing = MLP(\n",
        "            [in_features, self._num_categories * in_features], bn_momentum=bn_momentum, bias=False\n",
        "        )\n",
        "        if dropout_proba:\n",
        "            self.channel_rasing.add_module(\"Dropout\", torch.nn.Dropout(p=dropout_proba))\n",
        "\n",
        "        self.classifier = UnaryConv((self._num_categories, in_features, self._max_seg_count))\n",
        "        self._bias = torch.nn.Parameter(torch.zeros(self._max_seg_count,))\n",
        "\n",
        "    def forward(self, features, category_labels, **kwargs):\n",
        "        assert features.dim() == 2\n",
        "        self._shifts = self._shifts.to(features.device)\n",
        "        in_dim = features.shape[-1]\n",
        "        features = self.channel_rasing(features)\n",
        "        features = features.reshape((-1, self._num_categories, in_dim))\n",
        "        features = features.transpose(0, 1)  # [num_categories, num_points, in_dim]\n",
        "        features = self.classifier(features) + self._bias  # [num_categories, num_points, max_seg]\n",
        "        ind = category_labels.unsqueeze(-1).repeat(1, 1, features.shape[-1]).long()\n",
        "\n",
        "        logits = features.gather(0, ind).squeeze(0)\n",
        "        softmax = torch.nn.functional.log_softmax(logits, dim=-1)\n",
        "\n",
        "        output = torch.zeros(logits.shape[0], self._max_seg + 1).to(features.device)\n",
        "        cats_in_batch = torch.unique(category_labels)\n",
        "        for cat in cats_in_batch:\n",
        "            cat_mask = category_labels == cat\n",
        "            seg_indices = self._cat_to_seg[cat.item()]\n",
        "            probs = softmax[cat_mask, : len(seg_indices)]\n",
        "            output[cat_mask, seg_indices[0] : seg_indices[-1] + 1] = probs\n",
        "        \n",
        "        return output"
      ],
      "execution_count": 0,
      "outputs": []
    },
    {
      "cell_type": "markdown",
      "metadata": {
        "id": "vk2LyH-IT2KG",
        "colab_type": "text"
      },
      "source": [
        "The model we implement here follows the main architecture proposed in the [original paper](https://arxiv.org/abs/1904.08889):\n",
        "\n",
        "<p align=\"center\">\n",
        "  <img width=\"70%\" src=\"https://drive.google.com/uc?export=view&id=1CJppQ88T69whjYsJc016L3_E_rtcJ8n1\" />\n",
        "</p>"
      ]
    },
    {
      "cell_type": "code",
      "metadata": {
        "id": "ZnyHC6Gx1nIw",
        "colab_type": "code",
        "outputId": "7bbede5a-1edb-4b67-e33a-6c9dab801532",
        "colab": {
          "base_uri": "https://localhost:8080/",
          "height": 72
        }
      },
      "source": [
        "from torch_points3d.applications.kpconv import KPConv\n",
        "\n",
        "\n",
        "class PartSegKPConv(torch.nn.Module):\n",
        "    def __init__(self, cat_to_seg):\n",
        "        super().__init__()\n",
        "        self.unet = KPConv(\n",
        "            architecture=\"unet\", \n",
        "            input_nc=3, \n",
        "            num_layers=4, \n",
        "            in_grid_size=0.02\n",
        "            )\n",
        "        self.classifier = MultiHeadClassifier(self.unet.output_nc, cat_to_seg)\n",
        "    \n",
        "    @property\n",
        "    def conv_type(self):\n",
        "        \"\"\" This is needed by the dataset to infer which batch collate should be used\"\"\"\n",
        "        return self.unet.conv_type\n",
        "    \n",
        "    def get_batch(self):\n",
        "        return self.batch\n",
        "    \n",
        "    def get_output(self):\n",
        "        \"\"\" This is needed by the tracker to get access to the ouputs of the network\"\"\"\n",
        "        return self.output\n",
        "    \n",
        "    def get_labels(self):\n",
        "        \"\"\" Needed by the tracker in order to access ground truth labels\"\"\"\n",
        "        return self.labels\n",
        "    \n",
        "    def get_current_losses(self):\n",
        "        \"\"\" Entry point for the tracker to grab the loss \"\"\"\n",
        "        return {\"loss_seg\": float(self.loss_seg)}\n",
        "\n",
        "    def forward(self, data):\n",
        "        self.labels = data.y\n",
        "        self.batch = data.batch\n",
        "        \n",
        "        # Forward through unet and classifier\n",
        "        data_features = self.unet(data)\n",
        "        self.output = self.classifier(data_features.x, data.category)\n",
        "\n",
        "         # Set loss for the backward pass\n",
        "        self.loss_seg = torch.nn.functional.nll_loss(self.output, self.labels)\n",
        "        return self.output\n",
        "\n",
        "    def get_spatial_ops(self):\n",
        "        return self.unet.get_spatial_ops()\n",
        "        \n",
        "    def backward(self):\n",
        "         self.loss_seg.backward() \n",
        "\n",
        "    "
      ],
      "execution_count": 8,
      "outputs": [
        {
          "output_type": "stream",
          "text": [
            "ERROR:root:The testing module requires faiss. You can install the GPU version with the command 'conda install faiss-gpu -c pytorch' \n",
            "                        or the CPU version with 'conda install faiss-cpu -c pytorch'. Learn more at https://github.com/facebookresearch/faiss/blob/master/INSTALL.md\n"
          ],
          "name": "stderr"
        }
      ]
    },
    {
      "cell_type": "code",
      "metadata": {
        "id": "QQ0GUiv22KKb",
        "colab_type": "code",
        "colab": {}
      },
      "source": [
        "model = PartSegKPConv(dataset.class_to_segments)"
      ],
      "execution_count": 0,
      "outputs": []
    },
    {
      "cell_type": "markdown",
      "metadata": {
        "id": "k9Bx8GjE3Kt7",
        "colab_type": "text"
      },
      "source": [
        "## The data loaders and CPU pre computing features\n",
        "KPConv is quite demanding on spatial operations such as grid sampling and radius search. On the network loaded here we have 10 KPConv layers on the encoder which means 10 radius search operations with varying number of neighbours. We observed a significant performance gain by moving those operations to the CPU where they can easily be optimised with suitable data structures such as kd-tree. We use [nonaflann](https://github.com/jlblancoc/nanoflann) in the back-end, a 3D optimised kd-tree implementation. Note that this is beneficiary only if you have access to multiple CPU threads.\n",
        "\n",
        "You can decide to precompute those spatial operations by setting the `precompute_multi_scale` parameter to `True` when creating the data loaders. The dataset will mine the model to figure out which spatial operations are required and in which order."
      ]
    },
    {
      "cell_type": "code",
      "metadata": {
        "id": "i1k4CNG12RXN",
        "colab_type": "code",
        "colab": {}
      },
      "source": [
        "NUM_WORKERS = 4\n",
        "BATCH_SIZE = 6\n",
        "dataset.create_dataloaders(\n",
        "    model,\n",
        "    batch_size=BATCH_SIZE, \n",
        "    num_workers=NUM_WORKERS, \n",
        "    shuffle=True, \n",
        "    precompute_multi_scale=False \n",
        "    )"
      ],
      "execution_count": 0,
      "outputs": []
    },
    {
      "cell_type": "code",
      "metadata": {
        "id": "4wdS3y_aVIbm",
        "colab_type": "code",
        "colab": {
          "base_uri": "https://localhost:8080/",
          "height": 34
        },
        "outputId": "9072de6d-a660-4a2c-8ac1-89a76866aa20"
      },
      "source": [
        "sample = next(iter(dataset.train_dataloader))\n",
        "sample.keys"
      ],
      "execution_count": 45,
      "outputs": [
        {
          "output_type": "execute_result",
          "data": {
            "text/plain": [
              "['x', 'y', 'pos', 'multiscale', 'upsample', 'batch', 'category']"
            ]
          },
          "metadata": {
            "tags": []
          },
          "execution_count": 45
        }
      ]
    },
    {
      "cell_type": "markdown",
      "metadata": {
        "id": "A5pl2g9ap1Fq",
        "colab_type": "text"
      },
      "source": [
        "Our `sample` contains the pre computed spatial information in the `multiscale` (encoder side) and `upsample` (decoder) attrivutes. The decoder pre computing is quite simple and just involves some basic caching for the nearest neighbour interpolation operation. Let's take a look at the encoder side of things first. "
      ]
    },
    {
      "cell_type": "code",
      "metadata": {
        "id": "z0o8yQF4FWvV",
        "colab_type": "code",
        "colab": {
          "base_uri": "https://localhost:8080/",
          "height": 191
        },
        "outputId": "1478227b-d5b8-4ca9-c9bb-6d1fde9fc711"
      },
      "source": [
        "sample.multiscale"
      ],
      "execution_count": 46,
      "outputs": [
        {
          "output_type": "execute_result",
          "data": {
            "text/plain": [
              "[Batch(batch=[10631], idx_neighboors=[10631, 25], pos=[10631, 3]),\n",
              " Batch(batch=[10631], idx_neighboors=[10631, 25], pos=[10631, 3]),\n",
              " Batch(batch=[4191], idx_neighboors=[4191, 25], pos=[4191, 3]),\n",
              " Batch(batch=[4191], idx_neighboors=[4191, 30], pos=[4191, 3]),\n",
              " Batch(batch=[893], idx_neighboors=[893, 30], pos=[893, 3]),\n",
              " Batch(batch=[893], idx_neighboors=[893, 38], pos=[893, 3]),\n",
              " Batch(batch=[212], idx_neighboors=[212, 38], pos=[212, 3]),\n",
              " Batch(batch=[212], idx_neighboors=[212, 38], pos=[212, 3]),\n",
              " Batch(batch=[66], idx_neighboors=[66, 38], pos=[66, 3]),\n",
              " Batch(batch=[66], idx_neighboors=[66, 38], pos=[66, 3])]"
            ]
          },
          "metadata": {
            "tags": []
          },
          "execution_count": 46
        }
      ]
    },
    {
      "cell_type": "markdown",
      "metadata": {
        "id": "B-2bjfQyqUyH",
        "colab_type": "text"
      },
      "source": [
        "`sample.multiscale` contains 10 different versions of the input batch, each one of these versions contains the location of the points in `pos` as well as the neighbours of these points in the previous point cloud. We will first look at the points coming out of each downsampling layer (strided convolution), we have 5 of them."
      ]
    },
    {
      "cell_type": "code",
      "metadata": {
        "id": "qmR0S-F5qTvV",
        "colab_type": "code",
        "colab": {
          "base_uri": "https://localhost:8080/",
          "height": 273
        },
        "cellView": "form",
        "outputId": "183eb574-0790-440e-ef35-88a11641e3b1"
      },
      "source": [
        "#@title Successive downsampling {run:\"auto\"}\n",
        "sample_in_batch = 5 #@param {type:\"integer\"}\n",
        "ms_data = sample.multiscale \n",
        "num_downsize = int(len(ms_data) / 2)\n",
        "p = pv.Plotter(notebook=True,shape=(1, num_downsize),window_size=[1024,256])\n",
        "for i in range(0,num_downsize):\n",
        "    p.subplot(0, i)\n",
        "    pos = ms_data[2*i].pos[ms_data[2*i].batch == sample_in_batch].numpy()\n",
        "    point_cloud = pv.PolyData(pos)\n",
        "    point_cloud['y'] = pos[:,1]\n",
        "    p.add_points(point_cloud,  show_scalar_bar=False, point_size=3)\n",
        "    p.add_text(\"Layer {}\".format(i+1),font_size=10)\n",
        "    p.camera_position = [-1,5, -10]\n",
        "p.show()"
      ],
      "execution_count": 47,
      "outputs": [
        {
          "output_type": "display_data",
          "data": {
            "image/png": "[encoded data removed]",
            "text/plain": [
              "<PIL.Image.Image image mode=RGB size=1024x256 at 0x7F0D11C4B0B8>"
            ]
          },
          "metadata": {
            "tags": []
          }
        }
      ]
    },
    {
      "cell_type": "markdown",
      "metadata": {
        "id": "ONPofTEptKyL",
        "colab_type": "text"
      },
      "source": [
        "Let's now take one point in a layer (query point) and show its neighbours in the previous layer (support point)"
      ]
    },
    {
      "cell_type": "code",
      "metadata": {
        "id": "-uVmbA_OqDrg",
        "colab_type": "code",
        "colab": {
          "base_uri": "https://localhost:8080/",
          "height": 429
        },
        "cellView": "form",
        "outputId": "c53a9ed5-ad60-4be5-e96f-5f9b3823774f"
      },
      "source": [
        "#@title Explore Neighborhood {run: \"auto\"}\n",
        "selected_layer = 9 #@param {type:\"integer\"}\n",
        "sample_in_batch = 1 #@param {type:\"integer\"}\n",
        "point1_id = 10 #@param {type:\"integer\"}\n",
        "point2_id =  1#@param {type:\"integer\"}\n",
        "\n",
        "p = pv.Plotter(notebook=True,shape=(1, 2),window_size=[1024,412])\n",
        "\n",
        "# Selected layer\n",
        "p.subplot(0, 1)\n",
        "ms_data = sample.multiscale[selected_layer]\n",
        "pos = ms_data.pos[ms_data.batch == sample_in_batch].numpy()\n",
        "nei = ms_data.idx_neighboors[ms_data.batch == sample_in_batch]\n",
        "point_cloud = pv.PolyData(pos)\n",
        "p.add_points(point_cloud,  show_scalar_bar=False, point_size=3,opacity=0.3)\n",
        "p.add_points(pos[point1_id,:],  show_scalar_bar=False, point_size=7.0,color='red')\n",
        "p.add_points(pos[point2_id,:],  show_scalar_bar=False, point_size=7.0,color='green')\n",
        "p.camera_position = [-1,5, -10]\n",
        "\n",
        "# Previous layer\n",
        "p.subplot(0, 0)\n",
        "ms_data = sample.multiscale[selected_layer-1]\n",
        "pos = ms_data.pos[ms_data.batch == sample_in_batch].numpy()\n",
        "point_cloud = pv.PolyData(pos)\n",
        "p.add_points(point_cloud,  show_scalar_bar=False,point_size=3, opacity=0.3)\n",
        "nei_pos = ms_data.pos[nei[point1_id]].numpy()\n",
        "nei_pos = nei_pos[nei[point1_id] >= 0]\n",
        "p.add_points(nei_pos,  show_scalar_bar=False, point_size=3.0,color='red')\n",
        "nei_pos = ms_data.pos[nei[point2_id]].numpy()\n",
        "nei_pos = nei_pos[nei[point2_id] >= 0]\n",
        "p.add_points(nei_pos,  show_scalar_bar=False, point_size=3.0,color='green')\n",
        "p.camera_position = [-1,5, -10]\n",
        "\n",
        "p.show()"
      ],
      "execution_count": 48,
      "outputs": [
        {
          "output_type": "display_data",
          "data": {
            "image/png": "[encoded data removed]",
            "text/plain": [
              "<PIL.Image.Image image mode=RGB size=1024x412 at 0x7F0D1130AEF0>"
            ]
          },
          "metadata": {
            "tags": []
          }
        }
      ]
    },
    {
      "cell_type": "markdown",
      "metadata": {
        "id": "OsOeG_VXW5lC",
        "colab_type": "text"
      },
      "source": [
        "## Training loop"
      ]
    },
    {
      "cell_type": "code",
      "metadata": {
        "id": "Hg3O2swzW7if",
        "colab_type": "code",
        "colab": {}
      },
      "source": [
        "import pytorch_lightning as pl\n",
        "class LightningModel(pl.LightningModule):\n",
        "    def __init__(self, model, dataset):\n",
        "        super().__init__()\n",
        "        self._model = model\n",
        "        self._dataset = dataset\n",
        "        self._tracker = dataset.get_tracker(False,False)\n",
        "\n",
        "    def forward(self, data):\n",
        "        self._model(data)\n",
        "        return self._model.get_output()\n",
        "\n",
        "    def training_step(self, data, *args):\n",
        "        self(data)\n",
        "        # self._tracker.track(self._model)\n",
        "        return {'loss': self._model.loss_seg}\n",
        "    \n",
        "    def training_epoch_end(self, outputs, *args):\n",
        "        metrics = self._tracker.get_metrics()\n",
        "        self._tracker.reset('val')\n",
        "        return {\n",
        "            'loss': torch.stack([x['loss'] for x in outputs]).mean(),\n",
        "             'log':metrics\n",
        "        }\n",
        "\n",
        "    def validation_step(self, data, *args):\n",
        "        self(data)\n",
        "        self._tracker.track(self._model)\n",
        "        return {'val_loss': self._model.loss_seg,'log': self._tracker.get_metrics()}\n",
        "\n",
        "    def validation_epoch_end(self, outputs):\n",
        "        metrics = self._tracker.get_metrics()\n",
        "        self._tracker.reset('train')\n",
        "        output = {\n",
        "            'val_loss': torch.stack([x['val_loss'] for x in outputs]).mean(),\n",
        "             'log':metrics\n",
        "        }\n",
        "        print(output)\n",
        "        return output\n",
        "\n",
        "    def configure_optimizers(self):\n",
        "        return torch.optim.Adam(self.parameters(), lr=0.001)\n",
        "\n",
        "    def train_dataloader(self):\n",
        "        return self._dataset.train_dataloader\n",
        "\n",
        "    def val_dataloader(self):\n",
        "        return self._dataset.test_dataloaders[0]"
      ],
      "execution_count": 0,
      "outputs": []
    },
    {
      "cell_type": "code",
      "metadata": {
        "id": "xFaIG1SBchHg",
        "colab_type": "code",
        "colab": {}
      },
      "source": [
        "l_model = LightningModel(model,dataset)"
      ],
      "execution_count": 0,
      "outputs": []
    },
    {
      "cell_type": "code",
      "metadata": {
        "id": "ydhhP0CdcqO1",
        "colab_type": "code",
        "colab": {
          "base_uri": "https://localhost:8080/",
          "height": 203,
          "referenced_widgets": [
            "c204a57a1c474e138e1e55db17f67850",
            "73f26b53055d49f881de50832bfb2712",
            "3a9b069ba99143c3b46eb7850668437d",
            "f33ec049315245cc8c29a4945c02630c",
            "a66109596b4d443698bdb88d2474f6ae",
            "e95a36a4499f469b8fee89200e5cf435",
            "7f1967ec78024bbea620ba8e392d01f0",
            "a09eb4d400d44b72a21a82bc30846b4f",
            "79cc3285fb744684ab6d96e6d2752300",
            "ed9f64c2168a4bb88f42fab96e7c93ca",
            "6821b7ef2aa4461a9016f5f163d4877b",
            "dcd488cca0354e7695ded0b507679e1a",
            "d67013b9312d4c3c94388b939a6ad21f",
            "29208dbfb35849229000d56259e2d53e",
            "9d4f1ceeed7848afa4292ceb5302a1ec",
            "30f0bc9d5d1f4df58cdb6c016ec1bf99",
            "f2c3790d6e1c4db58f6b12a8dd80c2a8",
            "0fb2be726282414fae8622e155ae7ca3",
            "ce800c9da9b24522b33d8a8ad081df2f",
            "773b842d851549b78748245b8b4f0f02",
            "16265d8e558448efb2bfb424f3a12e4c",
            "1936f7e8bebc44be91d3186685026df3",
            "b3b2fb46cfa042a584a055bc874bd1ca",
            "a42f080ded104d5d8ec29ccaec1ac913",
            "f54ba7aca5f447fc962737944e845572",
            "5f39c39abd5442cda9fa53c896a80ea2",
            "9d1f52483a9f4fe3af17f37b9126d788",
            "789c743f9787441bb69651f7cc2bc8c9",
            "155bb868dfb34369968ce8c8479ad462",
            "30dc0c8fc11e409b9e0b4f7ed73f8b1e",
            "67a8c2b81d1b471eba0583a40e16f8dc",
            "d7aacf61b0e3412da27f287da903b395",
            "33b9d2a85ac44c05aac6214698c30104",
            "e0eacb0bbe304d2f93f64de232611a63",
            "7da11fecb3f04d45b91dd394642083db",
            "6c49dc73dfe64b95924bc3b3f706e97e",
            "148f8593a7684c52a8c7cf746a5e4ffa",
            "60a0c9d4443141dbb7d53ddb3234c862",
            "9e8f1ade71b44270881a6e1368ca773f",
            "e526224beade46439b8824e917976115",
            "0d832f12bd704c738ea826af0fc496a0",
            "4bf8d3b1b5a34b34b658472026d67037",
            "e5d5d0841b97473cbfe788b839c0937f",
            "06b7860151fc4a49896b3c9bf56086bd",
            "eabd55dc1dcc4bd2b3e3dcd685fe1af6",
            "231d940a5e2845a0a810437b2b970e95",
            "7ab08f257f8d4a398ab17702d287a2c7",
            "3c6715993df84a628978e44cafc4d236",
            "7942dda1e971426891e6d9535478e4bd",
            "3189d86ea15b411eac4a78f144659e65",
            "ad1361048da547ad980811dd9b028f25",
            "44ca24efa80b403e91fe10011972fe93",
            "b01e27359ea34465bb1baf0b1a2976a6",
            "421b9c8b56034fa08e920028b9200a69",
            "be61ae48d1be47f687bd75523453a500",
            "6861cf007cfd4936b27e24e8548b6bcf",
            "9a1e35f514e54a4596dff1a4924d27b5",
            "dbc5bfec8f6544019ce7c78c2dc3ac45",
            "d805cd8bbc97423b9bab3490e3faa552",
            "0371c142afad4bcd940b661f29263df2",
            "823ad5bbd1fa4c9194ea987fb65c1af2",
            "746382497eb34a37903491d7ed504d12",
            "a7d3895d8cd847f1993b540fc4846b49",
            "9741bdc15d7647329e0e0413fe0f9845"
          ]
        },
        "outputId": "ff2a59ad-27ad-4093-c3dc-469a174c3f63"
      },
      "source": [
        "trainer = pl.Trainer(row_log_interval=1)\n",
        "trainer.fit(l_model)"
      ],
      "execution_count": 0,
      "outputs": [
        {
          "output_type": "display_data",
          "data": {
            "application/vnd.jupyter.widget-view+json": {
              "model_id": "c204a57a1c474e138e1e55db17f67850",
              "version_minor": 0,
              "version_major": 2
            },
            "text/plain": [
              "HBox(children=(FloatProgress(value=1.0, bar_style='info', description='Validation sanity check', layout=Layout…"
            ]
          },
          "metadata": {
            "tags": []
          }
        },
        {
          "output_type": "stream",
          "text": [
            "{'val_loss': tensor(0.6741), 'log': {'train_loss_seg': 0.6741112073262533, 'train_Cmiou': 44.80436477971074, 'train_Imiou': 44.80436477971074}}\n",
            "\r"
          ],
          "name": "stdout"
        },
        {
          "output_type": "display_data",
          "data": {
            "application/vnd.jupyter.widget-view+json": {
              "model_id": "79cc3285fb744684ab6d96e6d2752300",
              "version_minor": 0,
              "version_major": 2
            },
            "text/plain": [
              "HBox(children=(FloatProgress(value=1.0, bar_style='info', description='Training', layout=Layout(flex='2'), max…"
            ]
          },
          "metadata": {
            "tags": []
          }
        },
        {
          "output_type": "display_data",
          "data": {
            "application/vnd.jupyter.widget-view+json": {
              "model_id": "f2c3790d6e1c4db58f6b12a8dd80c2a8",
              "version_minor": 0,
              "version_major": 2
            },
            "text/plain": [
              "HBox(children=(FloatProgress(value=1.0, bar_style='info', description='Validating', layout=Layout(flex='2'), m…"
            ]
          },
          "metadata": {
            "tags": []
          }
        },
        {
          "output_type": "stream",
          "text": [
            "{'val_loss': tensor(0.5963), 'log': {'train_loss_seg': 0.5963320732116699, 'train_Cmiou': 44.80436477971074, 'train_Imiou': 44.80436477971074}}\n"
          ],
          "name": "stdout"
        },
        {
          "output_type": "display_data",
          "data": {
            "application/vnd.jupyter.widget-view+json": {
              "model_id": "f54ba7aca5f447fc962737944e845572",
              "version_minor": 0,
              "version_major": 2
            },
            "text/plain": [
              "HBox(children=(FloatProgress(value=1.0, bar_style='info', description='Validating', layout=Layout(flex='2'), m…"
            ]
          },
          "metadata": {
            "tags": []
          }
        },
        {
          "output_type": "stream",
          "text": [
            "{'val_loss': tensor(0.4236), 'log': {'val_loss_seg': 0.4236452082792918, 'val_Cmiou': 44.80436477971074, 'val_Imiou': 44.80436477971074}}\n"
          ],
          "name": "stdout"
        },
        {
          "output_type": "display_data",
          "data": {
            "application/vnd.jupyter.widget-view+json": {
              "model_id": "33b9d2a85ac44c05aac6214698c30104",
              "version_minor": 0,
              "version_major": 2
            },
            "text/plain": [
              "HBox(children=(FloatProgress(value=1.0, bar_style='info', description='Validating', layout=Layout(flex='2'), m…"
            ]
          },
          "metadata": {
            "tags": []
          }
        },
        {
          "output_type": "stream",
          "text": [
            "{'val_loss': tensor(0.3560), 'log': {'val_loss_seg': 0.3559507429599762, 'val_Cmiou': 44.80436477971074, 'val_Imiou': 44.80436477971074}}\n"
          ],
          "name": "stdout"
        },
        {
          "output_type": "display_data",
          "data": {
            "application/vnd.jupyter.widget-view+json": {
              "model_id": "0d832f12bd704c738ea826af0fc496a0",
              "version_minor": 0,
              "version_major": 2
            },
            "text/plain": [
              "HBox(children=(FloatProgress(value=1.0, bar_style='info', description='Validating', layout=Layout(flex='2'), m…"
            ]
          },
          "metadata": {
            "tags": []
          }
        },
        {
          "output_type": "stream",
          "text": [
            "{'val_loss': tensor(0.3478), 'log': {'val_loss_seg': 0.3478154242038727, 'val_Cmiou': 44.803049336406346, 'val_Imiou': 44.803049336406346}}\n"
          ],
          "name": "stdout"
        },
        {
          "output_type": "display_data",
          "data": {
            "application/vnd.jupyter.widget-view+json": {
              "model_id": "7942dda1e971426891e6d9535478e4bd",
              "version_minor": 0,
              "version_major": 2
            },
            "text/plain": [
              "HBox(children=(FloatProgress(value=1.0, bar_style='info', description='Validating', layout=Layout(flex='2'), m…"
            ]
          },
          "metadata": {
            "tags": []
          }
        },
        {
          "output_type": "stream",
          "text": [
            "{'val_loss': tensor(0.3619), 'log': {'val_loss_seg': 0.3619270821412404, 'val_Cmiou': 44.80436477971074, 'val_Imiou': 44.80436477971074}}\n"
          ],
          "name": "stdout"
        },
        {
          "output_type": "display_data",
          "data": {
            "application/vnd.jupyter.widget-view+json": {
              "model_id": "9a1e35f514e54a4596dff1a4924d27b5",
              "version_minor": 0,
              "version_major": 2
            },
            "text/plain": [
              "HBox(children=(FloatProgress(value=1.0, bar_style='info', description='Validating', layout=Layout(flex='2'), m…"
            ]
          },
          "metadata": {
            "tags": []
          }
        },
        {
          "output_type": "stream",
          "text": [
            "{'val_loss': tensor(0.3700), 'log': {'val_loss_seg': 0.3699589769045512, 'val_Cmiou': 48.628034475867786, 'val_Imiou': 48.628034475867786}}\n"
          ],
          "name": "stdout"
        }
      ]
    },
    {
      "cell_type": "code",
      "metadata": {
        "id": "Y69S3OsL2UKL",
        "colab_type": "code",
        "colab": {}
      },
      "source": [
        ""
      ],
      "execution_count": 0,
      "outputs": []
    }
  ]
}